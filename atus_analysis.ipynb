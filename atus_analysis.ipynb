{
 "cells": [
  {
   "cell_type": "code",
   "execution_count": 1,
   "metadata": {
    "collapsed": true
   },
   "outputs": [],
   "source": [
    "import pandas as pd\n",
    "import numpy as np\n",
    "import matplotlib.pyplot as plt\n",
    "\n",
    "import re\n",
    "\n",
    "%matplotlib inline"
   ]
  },
  {
   "cell_type": "code",
   "execution_count": 2,
   "metadata": {
    "collapsed": false
   },
   "outputs": [],
   "source": [
    "from rename import *"
   ]
  },
  {
   "cell_type": "code",
   "execution_count": 3,
   "metadata": {
    "collapsed": true
   },
   "outputs": [],
   "source": [
    "summary = pd.read_csv('data/atussum_2014.dat') "
   ]
  },
  {
   "cell_type": "code",
   "execution_count": 4,
   "metadata": {
    "collapsed": false,
    "scrolled": true
   },
   "outputs": [
    {
     "data": {
      "text/html": [
       "<div>\n",
       "<table border=\"1\" class=\"dataframe\">\n",
       "  <thead>\n",
       "    <tr style=\"text-align: right;\">\n",
       "      <th></th>\n",
       "      <th>tucaseid</th>\n",
       "      <th>TUFINLWGT</th>\n",
       "      <th>TRYHHCHILD</th>\n",
       "      <th>TEAGE</th>\n",
       "      <th>TESEX</th>\n",
       "      <th>PEEDUCA</th>\n",
       "      <th>PTDTRACE</th>\n",
       "      <th>PEHSPNON</th>\n",
       "      <th>GTMETSTA</th>\n",
       "      <th>TELFS</th>\n",
       "      <th>...</th>\n",
       "      <th>t181601</th>\n",
       "      <th>t181699</th>\n",
       "      <th>t181801</th>\n",
       "      <th>t181899</th>\n",
       "      <th>t189999</th>\n",
       "      <th>t500101</th>\n",
       "      <th>t500103</th>\n",
       "      <th>t500105</th>\n",
       "      <th>t500106</th>\n",
       "      <th>t500107</th>\n",
       "    </tr>\n",
       "  </thead>\n",
       "  <tbody>\n",
       "    <tr>\n",
       "      <th>0</th>\n",
       "      <td>20140101140007</td>\n",
       "      <td>4891315.826760</td>\n",
       "      <td>0</td>\n",
       "      <td>20</td>\n",
       "      <td>2</td>\n",
       "      <td>39</td>\n",
       "      <td>1</td>\n",
       "      <td>1</td>\n",
       "      <td>1</td>\n",
       "      <td>4</td>\n",
       "      <td>...</td>\n",
       "      <td>0</td>\n",
       "      <td>0</td>\n",
       "      <td>0</td>\n",
       "      <td>0</td>\n",
       "      <td>0</td>\n",
       "      <td>0</td>\n",
       "      <td>0</td>\n",
       "      <td>0</td>\n",
       "      <td>0</td>\n",
       "      <td>0</td>\n",
       "    </tr>\n",
       "    <tr>\n",
       "      <th>1</th>\n",
       "      <td>20140101140011</td>\n",
       "      <td>23147368.359655</td>\n",
       "      <td>16</td>\n",
       "      <td>16</td>\n",
       "      <td>2</td>\n",
       "      <td>37</td>\n",
       "      <td>2</td>\n",
       "      <td>2</td>\n",
       "      <td>1</td>\n",
       "      <td>1</td>\n",
       "      <td>...</td>\n",
       "      <td>0</td>\n",
       "      <td>0</td>\n",
       "      <td>0</td>\n",
       "      <td>0</td>\n",
       "      <td>0</td>\n",
       "      <td>0</td>\n",
       "      <td>0</td>\n",
       "      <td>0</td>\n",
       "      <td>0</td>\n",
       "      <td>0</td>\n",
       "    </tr>\n",
       "    <tr>\n",
       "      <th>2</th>\n",
       "      <td>20140101140028</td>\n",
       "      <td>20941823.429044</td>\n",
       "      <td>2</td>\n",
       "      <td>65</td>\n",
       "      <td>2</td>\n",
       "      <td>38</td>\n",
       "      <td>1</td>\n",
       "      <td>1</td>\n",
       "      <td>1</td>\n",
       "      <td>5</td>\n",
       "      <td>...</td>\n",
       "      <td>0</td>\n",
       "      <td>0</td>\n",
       "      <td>0</td>\n",
       "      <td>0</td>\n",
       "      <td>0</td>\n",
       "      <td>0</td>\n",
       "      <td>0</td>\n",
       "      <td>0</td>\n",
       "      <td>0</td>\n",
       "      <td>0</td>\n",
       "    </tr>\n",
       "    <tr>\n",
       "      <th>3</th>\n",
       "      <td>20140101140063</td>\n",
       "      <td>2505899.417166</td>\n",
       "      <td>-1</td>\n",
       "      <td>50</td>\n",
       "      <td>2</td>\n",
       "      <td>39</td>\n",
       "      <td>2</td>\n",
       "      <td>2</td>\n",
       "      <td>2</td>\n",
       "      <td>5</td>\n",
       "      <td>...</td>\n",
       "      <td>0</td>\n",
       "      <td>0</td>\n",
       "      <td>0</td>\n",
       "      <td>0</td>\n",
       "      <td>0</td>\n",
       "      <td>0</td>\n",
       "      <td>0</td>\n",
       "      <td>0</td>\n",
       "      <td>0</td>\n",
       "      <td>0</td>\n",
       "    </tr>\n",
       "    <tr>\n",
       "      <th>4</th>\n",
       "      <td>20140101140168</td>\n",
       "      <td>15928231.823165</td>\n",
       "      <td>8</td>\n",
       "      <td>23</td>\n",
       "      <td>2</td>\n",
       "      <td>39</td>\n",
       "      <td>2</td>\n",
       "      <td>2</td>\n",
       "      <td>2</td>\n",
       "      <td>4</td>\n",
       "      <td>...</td>\n",
       "      <td>0</td>\n",
       "      <td>0</td>\n",
       "      <td>0</td>\n",
       "      <td>0</td>\n",
       "      <td>0</td>\n",
       "      <td>0</td>\n",
       "      <td>0</td>\n",
       "      <td>0</td>\n",
       "      <td>0</td>\n",
       "      <td>0</td>\n",
       "    </tr>\n",
       "  </tbody>\n",
       "</table>\n",
       "<p>5 rows × 409 columns</p>\n",
       "</div>"
      ],
      "text/plain": [
       "         tucaseid        TUFINLWGT  TRYHHCHILD  TEAGE  TESEX  PEEDUCA  \\\n",
       "0  20140101140007   4891315.826760           0     20      2       39   \n",
       "1  20140101140011  23147368.359655          16     16      2       37   \n",
       "2  20140101140028  20941823.429044           2     65      2       38   \n",
       "3  20140101140063   2505899.417166          -1     50      2       39   \n",
       "4  20140101140168  15928231.823165           8     23      2       39   \n",
       "\n",
       "   PTDTRACE  PEHSPNON  GTMETSTA  TELFS   ...     t181601  t181699  t181801  \\\n",
       "0         1         1         1      4   ...           0        0        0   \n",
       "1         2         2         1      1   ...           0        0        0   \n",
       "2         1         1         1      5   ...           0        0        0   \n",
       "3         2         2         2      5   ...           0        0        0   \n",
       "4         2         2         2      4   ...           0        0        0   \n",
       "\n",
       "   t181899  t189999  t500101  t500103  t500105  t500106  t500107  \n",
       "0        0        0        0        0        0        0        0  \n",
       "1        0        0        0        0        0        0        0  \n",
       "2        0        0        0        0        0        0        0  \n",
       "3        0        0        0        0        0        0        0  \n",
       "4        0        0        0        0        0        0        0  \n",
       "\n",
       "[5 rows x 409 columns]"
      ]
     },
     "execution_count": 4,
     "metadata": {},
     "output_type": "execute_result"
    }
   ],
   "source": [
    "summary.head()"
   ]
  },
  {
   "cell_type": "code",
   "execution_count": 5,
   "metadata": {
    "collapsed": true
   },
   "outputs": [],
   "source": [
    "summary = summary.rename(columns=rename_summary)"
   ]
  },
  {
   "cell_type": "code",
   "execution_count": 6,
   "metadata": {
    "collapsed": false
   },
   "outputs": [
    {
     "data": {
      "text/html": [
       "<div>\n",
       "<table border=\"1\" class=\"dataframe\">\n",
       "  <thead>\n",
       "    <tr style=\"text-align: right;\">\n",
       "      <th></th>\n",
       "      <th>case_id</th>\n",
       "      <th>stat_weight</th>\n",
       "      <th>age_youngest_child</th>\n",
       "      <th>age</th>\n",
       "      <th>sex</th>\n",
       "      <th>high_levl_edu</th>\n",
       "      <th>race</th>\n",
       "      <th>hisp</th>\n",
       "      <th>metro</th>\n",
       "      <th>labor_status</th>\n",
       "      <th>...</th>\n",
       "      <th>Travel related to phone calls</th>\n",
       "      <th>Travel rel. to phone calls, n.e.c.*</th>\n",
       "      <th>Security procedures related to traveling</th>\n",
       "      <th>Security procedures related to traveling, n.e.c.*</th>\n",
       "      <th>Traveling, n.e.c.*</th>\n",
       "      <th>Insufficient detail in verbatim</th>\n",
       "      <th>Missing travel or destination</th>\n",
       "      <th>Respondent refused to provide information/'none of your business'</th>\n",
       "      <th>Gap/can't remember</th>\n",
       "      <th>Unable to code activity at 1st tier</th>\n",
       "    </tr>\n",
       "  </thead>\n",
       "  <tbody>\n",
       "    <tr>\n",
       "      <th>0</th>\n",
       "      <td>20140101140007</td>\n",
       "      <td>4891315.826760</td>\n",
       "      <td>0</td>\n",
       "      <td>20</td>\n",
       "      <td>2</td>\n",
       "      <td>39</td>\n",
       "      <td>1</td>\n",
       "      <td>1</td>\n",
       "      <td>1</td>\n",
       "      <td>4</td>\n",
       "      <td>...</td>\n",
       "      <td>0</td>\n",
       "      <td>0</td>\n",
       "      <td>0</td>\n",
       "      <td>0</td>\n",
       "      <td>0</td>\n",
       "      <td>0</td>\n",
       "      <td>0</td>\n",
       "      <td>0</td>\n",
       "      <td>0</td>\n",
       "      <td>0</td>\n",
       "    </tr>\n",
       "    <tr>\n",
       "      <th>1</th>\n",
       "      <td>20140101140011</td>\n",
       "      <td>23147368.359655</td>\n",
       "      <td>16</td>\n",
       "      <td>16</td>\n",
       "      <td>2</td>\n",
       "      <td>37</td>\n",
       "      <td>2</td>\n",
       "      <td>2</td>\n",
       "      <td>1</td>\n",
       "      <td>1</td>\n",
       "      <td>...</td>\n",
       "      <td>0</td>\n",
       "      <td>0</td>\n",
       "      <td>0</td>\n",
       "      <td>0</td>\n",
       "      <td>0</td>\n",
       "      <td>0</td>\n",
       "      <td>0</td>\n",
       "      <td>0</td>\n",
       "      <td>0</td>\n",
       "      <td>0</td>\n",
       "    </tr>\n",
       "    <tr>\n",
       "      <th>2</th>\n",
       "      <td>20140101140028</td>\n",
       "      <td>20941823.429044</td>\n",
       "      <td>2</td>\n",
       "      <td>65</td>\n",
       "      <td>2</td>\n",
       "      <td>38</td>\n",
       "      <td>1</td>\n",
       "      <td>1</td>\n",
       "      <td>1</td>\n",
       "      <td>5</td>\n",
       "      <td>...</td>\n",
       "      <td>0</td>\n",
       "      <td>0</td>\n",
       "      <td>0</td>\n",
       "      <td>0</td>\n",
       "      <td>0</td>\n",
       "      <td>0</td>\n",
       "      <td>0</td>\n",
       "      <td>0</td>\n",
       "      <td>0</td>\n",
       "      <td>0</td>\n",
       "    </tr>\n",
       "    <tr>\n",
       "      <th>3</th>\n",
       "      <td>20140101140063</td>\n",
       "      <td>2505899.417166</td>\n",
       "      <td>-1</td>\n",
       "      <td>50</td>\n",
       "      <td>2</td>\n",
       "      <td>39</td>\n",
       "      <td>2</td>\n",
       "      <td>2</td>\n",
       "      <td>2</td>\n",
       "      <td>5</td>\n",
       "      <td>...</td>\n",
       "      <td>0</td>\n",
       "      <td>0</td>\n",
       "      <td>0</td>\n",
       "      <td>0</td>\n",
       "      <td>0</td>\n",
       "      <td>0</td>\n",
       "      <td>0</td>\n",
       "      <td>0</td>\n",
       "      <td>0</td>\n",
       "      <td>0</td>\n",
       "    </tr>\n",
       "    <tr>\n",
       "      <th>4</th>\n",
       "      <td>20140101140168</td>\n",
       "      <td>15928231.823165</td>\n",
       "      <td>8</td>\n",
       "      <td>23</td>\n",
       "      <td>2</td>\n",
       "      <td>39</td>\n",
       "      <td>2</td>\n",
       "      <td>2</td>\n",
       "      <td>2</td>\n",
       "      <td>4</td>\n",
       "      <td>...</td>\n",
       "      <td>0</td>\n",
       "      <td>0</td>\n",
       "      <td>0</td>\n",
       "      <td>0</td>\n",
       "      <td>0</td>\n",
       "      <td>0</td>\n",
       "      <td>0</td>\n",
       "      <td>0</td>\n",
       "      <td>0</td>\n",
       "      <td>0</td>\n",
       "    </tr>\n",
       "  </tbody>\n",
       "</table>\n",
       "<p>5 rows × 409 columns</p>\n",
       "</div>"
      ],
      "text/plain": [
       "          case_id      stat_weight  age_youngest_child  age  sex  \\\n",
       "0  20140101140007   4891315.826760                   0   20    2   \n",
       "1  20140101140011  23147368.359655                  16   16    2   \n",
       "2  20140101140028  20941823.429044                   2   65    2   \n",
       "3  20140101140063   2505899.417166                  -1   50    2   \n",
       "4  20140101140168  15928231.823165                   8   23    2   \n",
       "\n",
       "   high_levl_edu  race  hisp  metro  labor_status  \\\n",
       "0             39     1     1      1             4   \n",
       "1             37     2     2      1             1   \n",
       "2             38     1     1      1             5   \n",
       "3             39     2     2      2             5   \n",
       "4             39     2     2      2             4   \n",
       "\n",
       "                  ...                   Travel related to phone calls  \\\n",
       "0                 ...                                               0   \n",
       "1                 ...                                               0   \n",
       "2                 ...                                               0   \n",
       "3                 ...                                               0   \n",
       "4                 ...                                               0   \n",
       "\n",
       "   Travel rel. to phone calls, n.e.c.*  \\\n",
       "0                                    0   \n",
       "1                                    0   \n",
       "2                                    0   \n",
       "3                                    0   \n",
       "4                                    0   \n",
       "\n",
       "   Security procedures related to traveling  \\\n",
       "0                                         0   \n",
       "1                                         0   \n",
       "2                                         0   \n",
       "3                                         0   \n",
       "4                                         0   \n",
       "\n",
       "   Security procedures related to traveling, n.e.c.*  Traveling, n.e.c.*  \\\n",
       "0                                                  0                   0   \n",
       "1                                                  0                   0   \n",
       "2                                                  0                   0   \n",
       "3                                                  0                   0   \n",
       "4                                                  0                   0   \n",
       "\n",
       "   Insufficient detail in verbatim  Missing travel or destination  \\\n",
       "0                                0                              0   \n",
       "1                                0                              0   \n",
       "2                                0                              0   \n",
       "3                                0                              0   \n",
       "4                                0                              0   \n",
       "\n",
       "   Respondent refused to provide information/'none of your business'  \\\n",
       "0                                                  0                   \n",
       "1                                                  0                   \n",
       "2                                                  0                   \n",
       "3                                                  0                   \n",
       "4                                                  0                   \n",
       "\n",
       "   Gap/can't remember  Unable to code activity at 1st tier  \n",
       "0                   0                                    0  \n",
       "1                   0                                    0  \n",
       "2                   0                                    0  \n",
       "3                   0                                    0  \n",
       "4                   0                                    0  \n",
       "\n",
       "[5 rows x 409 columns]"
      ]
     },
     "execution_count": 6,
     "metadata": {},
     "output_type": "execute_result"
    }
   ],
   "source": [
    "summary.head()"
   ]
  },
  {
   "cell_type": "code",
   "execution_count": null,
   "metadata": {
    "collapsed": true
   },
   "outputs": [],
   "source": []
  },
  {
   "cell_type": "markdown",
   "metadata": {},
   "source": [
    "# Participating in Sports and Physical Activities"
   ]
  },
  {
   "cell_type": "code",
   "execution_count": null,
   "metadata": {
    "collapsed": true
   },
   "outputs": [],
   "source": []
  },
  {
   "cell_type": "code",
   "execution_count": 7,
   "metadata": {
    "collapsed": false
   },
   "outputs": [],
   "source": [
    "participating = summary[['case_id', 'high_levl_edu', 'race', 'metro', 'age', 'sex', 'hs_or_col',\n",
    "                             'num_of_children', 'Tobacco and drug use', 'Doing aerobics',\n",
    "                             'Playing baseball', 'Playing basketball', 'Biking',\n",
    "                             'Playing billiards', 'Boating', 'Bowling',\n",
    "                             'Climbing, spelunking, caving', 'Dancing',\n",
    "                             'Participating in equestrian sports', 'Fishing',\n",
    "                             'Playing football', 'Golfing', 'Doing gymnastics',\n",
    "                             'Hiking', 'Playing hockey', 'Hunting',\n",
    "                             'Participating in martial arts', 'Playing racquet sports',\n",
    "                             'Rollerblading', 'Running', 'Skiing, ice skating, snowboarding',\n",
    "                             'Playing soccer', 'Softball', 'Using cardiovascular equipment',\n",
    "                             'Vehicle touring/racing', 'Playing volleyball', 'Walking',\n",
    "                             'Participating in water sports', 'Weightlifting/strength training',\n",
    "                             'Working out, unspecified', 'Doing yoga', 'Playing sports n.e.c.*']]"
   ]
  },
  {
   "cell_type": "code",
   "execution_count": 8,
   "metadata": {
    "collapsed": false,
    "scrolled": true
   },
   "outputs": [
    {
     "name": "stderr",
     "output_type": "stream",
     "text": [
      "/Users/TK/tiy/week4/.direnv/python-3.4.3/lib/python3.4/site-packages/ipykernel/__main__.py:1: SettingWithCopyWarning: \n",
      "A value is trying to be set on a copy of a slice from a DataFrame.\n",
      "Try using .loc[row_indexer,col_indexer] = value instead\n",
      "\n",
      "See the the caveats in the documentation: http://pandas.pydata.org/pandas-docs/stable/indexing.html#indexing-view-versus-copy\n",
      "  if __name__ == '__main__':\n"
     ]
    }
   ],
   "source": [
    "participating['all_activities'] = (summary['Doing aerobics']+summary['Playing baseball']+summary['Playing basketball']+summary['Biking']+summary['Playing billiards']+summary['Boating']+summary['Bowling']+summary['Climbing, spelunking, caving']+summary['Dancing']+summary['Participating in equestrian sports']+summary['Fishing']+summary['Playing football']+summary['Golfing']+summary['Doing gymnastics']+summary['Hiking']+summary['Playing hockey']+summary['Hunting']+summary['Participating in martial arts']+summary['Playing racquet sports']+summary['Rollerblading']+summary['Running']+summary['Skiing, ice skating, snowboarding']+summary['Playing soccer']+summary['Softball']+summary['Using cardiovascular equipment']+summary['Vehicle touring/racing']+summary['Playing volleyball']+summary['Walking']+summary['Participating in water sports']+summary['Weightlifting/strength training']+summary['Working out, unspecified']+summary['Doing yoga']+summary['Playing sports n.e.c.*'])"
   ]
  },
  {
   "cell_type": "code",
   "execution_count": 9,
   "metadata": {
    "collapsed": false
   },
   "outputs": [
    {
     "data": {
      "text/html": [
       "<div>\n",
       "<table border=\"1\" class=\"dataframe\">\n",
       "  <thead>\n",
       "    <tr style=\"text-align: right;\">\n",
       "      <th></th>\n",
       "      <th>case_id</th>\n",
       "      <th>high_levl_edu</th>\n",
       "      <th>race</th>\n",
       "      <th>metro</th>\n",
       "      <th>age</th>\n",
       "      <th>sex</th>\n",
       "      <th>hs_or_col</th>\n",
       "      <th>num_of_children</th>\n",
       "      <th>Tobacco and drug use</th>\n",
       "      <th>Doing aerobics</th>\n",
       "      <th>...</th>\n",
       "      <th>Using cardiovascular equipment</th>\n",
       "      <th>Vehicle touring/racing</th>\n",
       "      <th>Playing volleyball</th>\n",
       "      <th>Walking</th>\n",
       "      <th>Participating in water sports</th>\n",
       "      <th>Weightlifting/strength training</th>\n",
       "      <th>Working out, unspecified</th>\n",
       "      <th>Doing yoga</th>\n",
       "      <th>Playing sports n.e.c.*</th>\n",
       "      <th>all_activities</th>\n",
       "    </tr>\n",
       "  </thead>\n",
       "  <tbody>\n",
       "    <tr>\n",
       "      <th>0</th>\n",
       "      <td>20140101140007</td>\n",
       "      <td>39</td>\n",
       "      <td>1</td>\n",
       "      <td>1</td>\n",
       "      <td>20</td>\n",
       "      <td>2</td>\n",
       "      <td>-1</td>\n",
       "      <td>1</td>\n",
       "      <td>0</td>\n",
       "      <td>0</td>\n",
       "      <td>...</td>\n",
       "      <td>0</td>\n",
       "      <td>0</td>\n",
       "      <td>0</td>\n",
       "      <td>0</td>\n",
       "      <td>0</td>\n",
       "      <td>0</td>\n",
       "      <td>0</td>\n",
       "      <td>0</td>\n",
       "      <td>0</td>\n",
       "      <td>90</td>\n",
       "    </tr>\n",
       "    <tr>\n",
       "      <th>1</th>\n",
       "      <td>20140101140011</td>\n",
       "      <td>37</td>\n",
       "      <td>2</td>\n",
       "      <td>1</td>\n",
       "      <td>16</td>\n",
       "      <td>2</td>\n",
       "      <td>1</td>\n",
       "      <td>1</td>\n",
       "      <td>0</td>\n",
       "      <td>0</td>\n",
       "      <td>...</td>\n",
       "      <td>0</td>\n",
       "      <td>0</td>\n",
       "      <td>0</td>\n",
       "      <td>0</td>\n",
       "      <td>0</td>\n",
       "      <td>0</td>\n",
       "      <td>0</td>\n",
       "      <td>0</td>\n",
       "      <td>0</td>\n",
       "      <td>0</td>\n",
       "    </tr>\n",
       "    <tr>\n",
       "      <th>2</th>\n",
       "      <td>20140101140028</td>\n",
       "      <td>38</td>\n",
       "      <td>1</td>\n",
       "      <td>1</td>\n",
       "      <td>65</td>\n",
       "      <td>2</td>\n",
       "      <td>-1</td>\n",
       "      <td>3</td>\n",
       "      <td>0</td>\n",
       "      <td>0</td>\n",
       "      <td>...</td>\n",
       "      <td>0</td>\n",
       "      <td>0</td>\n",
       "      <td>0</td>\n",
       "      <td>0</td>\n",
       "      <td>0</td>\n",
       "      <td>0</td>\n",
       "      <td>0</td>\n",
       "      <td>0</td>\n",
       "      <td>0</td>\n",
       "      <td>0</td>\n",
       "    </tr>\n",
       "    <tr>\n",
       "      <th>3</th>\n",
       "      <td>20140101140063</td>\n",
       "      <td>39</td>\n",
       "      <td>2</td>\n",
       "      <td>2</td>\n",
       "      <td>50</td>\n",
       "      <td>2</td>\n",
       "      <td>-1</td>\n",
       "      <td>0</td>\n",
       "      <td>0</td>\n",
       "      <td>0</td>\n",
       "      <td>...</td>\n",
       "      <td>0</td>\n",
       "      <td>0</td>\n",
       "      <td>0</td>\n",
       "      <td>0</td>\n",
       "      <td>0</td>\n",
       "      <td>0</td>\n",
       "      <td>0</td>\n",
       "      <td>0</td>\n",
       "      <td>0</td>\n",
       "      <td>0</td>\n",
       "    </tr>\n",
       "    <tr>\n",
       "      <th>4</th>\n",
       "      <td>20140101140168</td>\n",
       "      <td>39</td>\n",
       "      <td>2</td>\n",
       "      <td>2</td>\n",
       "      <td>23</td>\n",
       "      <td>2</td>\n",
       "      <td>-1</td>\n",
       "      <td>1</td>\n",
       "      <td>0</td>\n",
       "      <td>0</td>\n",
       "      <td>...</td>\n",
       "      <td>0</td>\n",
       "      <td>0</td>\n",
       "      <td>0</td>\n",
       "      <td>0</td>\n",
       "      <td>0</td>\n",
       "      <td>0</td>\n",
       "      <td>0</td>\n",
       "      <td>0</td>\n",
       "      <td>0</td>\n",
       "      <td>0</td>\n",
       "    </tr>\n",
       "  </tbody>\n",
       "</table>\n",
       "<p>5 rows × 43 columns</p>\n",
       "</div>"
      ],
      "text/plain": [
       "          case_id  high_levl_edu  race  metro  age  sex  hs_or_col  \\\n",
       "0  20140101140007             39     1      1   20    2         -1   \n",
       "1  20140101140011             37     2      1   16    2          1   \n",
       "2  20140101140028             38     1      1   65    2         -1   \n",
       "3  20140101140063             39     2      2   50    2         -1   \n",
       "4  20140101140168             39     2      2   23    2         -1   \n",
       "\n",
       "   num_of_children  Tobacco and drug use  Doing aerobics       ...        \\\n",
       "0                1                     0               0       ...         \n",
       "1                1                     0               0       ...         \n",
       "2                3                     0               0       ...         \n",
       "3                0                     0               0       ...         \n",
       "4                1                     0               0       ...         \n",
       "\n",
       "   Using cardiovascular equipment  Vehicle touring/racing  Playing volleyball  \\\n",
       "0                               0                       0                   0   \n",
       "1                               0                       0                   0   \n",
       "2                               0                       0                   0   \n",
       "3                               0                       0                   0   \n",
       "4                               0                       0                   0   \n",
       "\n",
       "   Walking  Participating in water sports  Weightlifting/strength training  \\\n",
       "0        0                              0                                0   \n",
       "1        0                              0                                0   \n",
       "2        0                              0                                0   \n",
       "3        0                              0                                0   \n",
       "4        0                              0                                0   \n",
       "\n",
       "   Working out, unspecified  Doing yoga  Playing sports n.e.c.*  \\\n",
       "0                         0           0                       0   \n",
       "1                         0           0                       0   \n",
       "2                         0           0                       0   \n",
       "3                         0           0                       0   \n",
       "4                         0           0                       0   \n",
       "\n",
       "   all_activities  \n",
       "0              90  \n",
       "1               0  \n",
       "2               0  \n",
       "3               0  \n",
       "4               0  \n",
       "\n",
       "[5 rows x 43 columns]"
      ]
     },
     "execution_count": 9,
     "metadata": {},
     "output_type": "execute_result"
    }
   ],
   "source": [
    "participating.head()"
   ]
  },
  {
   "cell_type": "code",
   "execution_count": 10,
   "metadata": {
    "collapsed": false
   },
   "outputs": [
    {
     "name": "stdout",
     "output_type": "stream",
     "text": [
      "People surveyed spent a mean of 16.885783298826777 minutes participating in sports and other physical activities.\n"
     ]
    }
   ],
   "source": [
    "print('People surveyed spent a mean of {} minutes participating in sports and other physical activities.'.format(participating['all_activities'].mean()))"
   ]
  },
  {
   "cell_type": "code",
   "execution_count": 11,
   "metadata": {
    "collapsed": false
   },
   "outputs": [],
   "source": [
    "any_participating = participating[participating.all_activities > 0]"
   ]
  },
  {
   "cell_type": "code",
   "execution_count": 12,
   "metadata": {
    "collapsed": true
   },
   "outputs": [],
   "source": [
    "no_participating = participating[participating.all_activities == 0]"
   ]
  },
  {
   "cell_type": "code",
   "execution_count": 13,
   "metadata": {
    "collapsed": false,
    "scrolled": true
   },
   "outputs": [
    {
     "data": {
      "text/html": [
       "<div>\n",
       "<table border=\"1\" class=\"dataframe\">\n",
       "  <thead>\n",
       "    <tr style=\"text-align: right;\">\n",
       "      <th></th>\n",
       "      <th>case_id</th>\n",
       "      <th>high_levl_edu</th>\n",
       "      <th>race</th>\n",
       "      <th>metro</th>\n",
       "      <th>age</th>\n",
       "      <th>sex</th>\n",
       "      <th>hs_or_col</th>\n",
       "      <th>num_of_children</th>\n",
       "      <th>Tobacco and drug use</th>\n",
       "      <th>Doing aerobics</th>\n",
       "      <th>...</th>\n",
       "      <th>Using cardiovascular equipment</th>\n",
       "      <th>Vehicle touring/racing</th>\n",
       "      <th>Playing volleyball</th>\n",
       "      <th>Walking</th>\n",
       "      <th>Participating in water sports</th>\n",
       "      <th>Weightlifting/strength training</th>\n",
       "      <th>Working out, unspecified</th>\n",
       "      <th>Doing yoga</th>\n",
       "      <th>Playing sports n.e.c.*</th>\n",
       "      <th>all_activities</th>\n",
       "    </tr>\n",
       "  </thead>\n",
       "  <tbody>\n",
       "    <tr>\n",
       "      <th>0</th>\n",
       "      <td>20140101140007</td>\n",
       "      <td>39</td>\n",
       "      <td>1</td>\n",
       "      <td>1</td>\n",
       "      <td>20</td>\n",
       "      <td>2</td>\n",
       "      <td>-1</td>\n",
       "      <td>1</td>\n",
       "      <td>0</td>\n",
       "      <td>0</td>\n",
       "      <td>...</td>\n",
       "      <td>0</td>\n",
       "      <td>0</td>\n",
       "      <td>0</td>\n",
       "      <td>0</td>\n",
       "      <td>0</td>\n",
       "      <td>0</td>\n",
       "      <td>0</td>\n",
       "      <td>0</td>\n",
       "      <td>0</td>\n",
       "      <td>90</td>\n",
       "    </tr>\n",
       "    <tr>\n",
       "      <th>7</th>\n",
       "      <td>20140101140610</td>\n",
       "      <td>42</td>\n",
       "      <td>1</td>\n",
       "      <td>1</td>\n",
       "      <td>28</td>\n",
       "      <td>1</td>\n",
       "      <td>-1</td>\n",
       "      <td>1</td>\n",
       "      <td>0</td>\n",
       "      <td>0</td>\n",
       "      <td>...</td>\n",
       "      <td>0</td>\n",
       "      <td>0</td>\n",
       "      <td>0</td>\n",
       "      <td>30</td>\n",
       "      <td>0</td>\n",
       "      <td>0</td>\n",
       "      <td>0</td>\n",
       "      <td>0</td>\n",
       "      <td>0</td>\n",
       "      <td>30</td>\n",
       "    </tr>\n",
       "    <tr>\n",
       "      <th>9</th>\n",
       "      <td>20140101140639</td>\n",
       "      <td>44</td>\n",
       "      <td>1</td>\n",
       "      <td>1</td>\n",
       "      <td>85</td>\n",
       "      <td>1</td>\n",
       "      <td>-1</td>\n",
       "      <td>0</td>\n",
       "      <td>0</td>\n",
       "      <td>0</td>\n",
       "      <td>...</td>\n",
       "      <td>30</td>\n",
       "      <td>0</td>\n",
       "      <td>0</td>\n",
       "      <td>0</td>\n",
       "      <td>0</td>\n",
       "      <td>0</td>\n",
       "      <td>0</td>\n",
       "      <td>0</td>\n",
       "      <td>0</td>\n",
       "      <td>30</td>\n",
       "    </tr>\n",
       "    <tr>\n",
       "      <th>18</th>\n",
       "      <td>20140101140852</td>\n",
       "      <td>43</td>\n",
       "      <td>1</td>\n",
       "      <td>1</td>\n",
       "      <td>67</td>\n",
       "      <td>1</td>\n",
       "      <td>-1</td>\n",
       "      <td>0</td>\n",
       "      <td>0</td>\n",
       "      <td>0</td>\n",
       "      <td>...</td>\n",
       "      <td>0</td>\n",
       "      <td>0</td>\n",
       "      <td>0</td>\n",
       "      <td>0</td>\n",
       "      <td>0</td>\n",
       "      <td>0</td>\n",
       "      <td>60</td>\n",
       "      <td>0</td>\n",
       "      <td>0</td>\n",
       "      <td>60</td>\n",
       "    </tr>\n",
       "    <tr>\n",
       "      <th>28</th>\n",
       "      <td>20140101140973</td>\n",
       "      <td>40</td>\n",
       "      <td>5</td>\n",
       "      <td>1</td>\n",
       "      <td>62</td>\n",
       "      <td>1</td>\n",
       "      <td>-1</td>\n",
       "      <td>0</td>\n",
       "      <td>0</td>\n",
       "      <td>0</td>\n",
       "      <td>...</td>\n",
       "      <td>0</td>\n",
       "      <td>0</td>\n",
       "      <td>0</td>\n",
       "      <td>0</td>\n",
       "      <td>0</td>\n",
       "      <td>0</td>\n",
       "      <td>120</td>\n",
       "      <td>0</td>\n",
       "      <td>0</td>\n",
       "      <td>120</td>\n",
       "    </tr>\n",
       "  </tbody>\n",
       "</table>\n",
       "<p>5 rows × 43 columns</p>\n",
       "</div>"
      ],
      "text/plain": [
       "           case_id  high_levl_edu  race  metro  age  sex  hs_or_col  \\\n",
       "0   20140101140007             39     1      1   20    2         -1   \n",
       "7   20140101140610             42     1      1   28    1         -1   \n",
       "9   20140101140639             44     1      1   85    1         -1   \n",
       "18  20140101140852             43     1      1   67    1         -1   \n",
       "28  20140101140973             40     5      1   62    1         -1   \n",
       "\n",
       "    num_of_children  Tobacco and drug use  Doing aerobics       ...        \\\n",
       "0                 1                     0               0       ...         \n",
       "7                 1                     0               0       ...         \n",
       "9                 0                     0               0       ...         \n",
       "18                0                     0               0       ...         \n",
       "28                0                     0               0       ...         \n",
       "\n",
       "    Using cardiovascular equipment  Vehicle touring/racing  \\\n",
       "0                                0                       0   \n",
       "7                                0                       0   \n",
       "9                               30                       0   \n",
       "18                               0                       0   \n",
       "28                               0                       0   \n",
       "\n",
       "    Playing volleyball  Walking  Participating in water sports  \\\n",
       "0                    0        0                              0   \n",
       "7                    0       30                              0   \n",
       "9                    0        0                              0   \n",
       "18                   0        0                              0   \n",
       "28                   0        0                              0   \n",
       "\n",
       "    Weightlifting/strength training  Working out, unspecified  Doing yoga  \\\n",
       "0                                 0                         0           0   \n",
       "7                                 0                         0           0   \n",
       "9                                 0                         0           0   \n",
       "18                                0                        60           0   \n",
       "28                                0                       120           0   \n",
       "\n",
       "    Playing sports n.e.c.*  all_activities  \n",
       "0                        0              90  \n",
       "7                        0              30  \n",
       "9                        0              30  \n",
       "18                       0              60  \n",
       "28                       0             120  \n",
       "\n",
       "[5 rows x 43 columns]"
      ]
     },
     "execution_count": 13,
     "metadata": {},
     "output_type": "execute_result"
    }
   ],
   "source": [
    "any_participating.head()"
   ]
  },
  {
   "cell_type": "code",
   "execution_count": 14,
   "metadata": {
    "collapsed": false,
    "scrolled": true
   },
   "outputs": [
    {
     "data": {
      "text/html": [
       "<div>\n",
       "<table border=\"1\" class=\"dataframe\">\n",
       "  <thead>\n",
       "    <tr style=\"text-align: right;\">\n",
       "      <th></th>\n",
       "      <th>case_id</th>\n",
       "      <th>high_levl_edu</th>\n",
       "      <th>race</th>\n",
       "      <th>metro</th>\n",
       "      <th>age</th>\n",
       "      <th>sex</th>\n",
       "      <th>hs_or_col</th>\n",
       "      <th>num_of_children</th>\n",
       "      <th>Tobacco and drug use</th>\n",
       "      <th>Doing aerobics</th>\n",
       "      <th>...</th>\n",
       "      <th>Using cardiovascular equipment</th>\n",
       "      <th>Vehicle touring/racing</th>\n",
       "      <th>Playing volleyball</th>\n",
       "      <th>Walking</th>\n",
       "      <th>Participating in water sports</th>\n",
       "      <th>Weightlifting/strength training</th>\n",
       "      <th>Working out, unspecified</th>\n",
       "      <th>Doing yoga</th>\n",
       "      <th>Playing sports n.e.c.*</th>\n",
       "      <th>all_activities</th>\n",
       "    </tr>\n",
       "  </thead>\n",
       "  <tbody>\n",
       "    <tr>\n",
       "      <th>1</th>\n",
       "      <td>20140101140011</td>\n",
       "      <td>37</td>\n",
       "      <td>2</td>\n",
       "      <td>1</td>\n",
       "      <td>16</td>\n",
       "      <td>2</td>\n",
       "      <td>1</td>\n",
       "      <td>1</td>\n",
       "      <td>0</td>\n",
       "      <td>0</td>\n",
       "      <td>...</td>\n",
       "      <td>0</td>\n",
       "      <td>0</td>\n",
       "      <td>0</td>\n",
       "      <td>0</td>\n",
       "      <td>0</td>\n",
       "      <td>0</td>\n",
       "      <td>0</td>\n",
       "      <td>0</td>\n",
       "      <td>0</td>\n",
       "      <td>0</td>\n",
       "    </tr>\n",
       "    <tr>\n",
       "      <th>2</th>\n",
       "      <td>20140101140028</td>\n",
       "      <td>38</td>\n",
       "      <td>1</td>\n",
       "      <td>1</td>\n",
       "      <td>65</td>\n",
       "      <td>2</td>\n",
       "      <td>-1</td>\n",
       "      <td>3</td>\n",
       "      <td>0</td>\n",
       "      <td>0</td>\n",
       "      <td>...</td>\n",
       "      <td>0</td>\n",
       "      <td>0</td>\n",
       "      <td>0</td>\n",
       "      <td>0</td>\n",
       "      <td>0</td>\n",
       "      <td>0</td>\n",
       "      <td>0</td>\n",
       "      <td>0</td>\n",
       "      <td>0</td>\n",
       "      <td>0</td>\n",
       "    </tr>\n",
       "    <tr>\n",
       "      <th>3</th>\n",
       "      <td>20140101140063</td>\n",
       "      <td>39</td>\n",
       "      <td>2</td>\n",
       "      <td>2</td>\n",
       "      <td>50</td>\n",
       "      <td>2</td>\n",
       "      <td>-1</td>\n",
       "      <td>0</td>\n",
       "      <td>0</td>\n",
       "      <td>0</td>\n",
       "      <td>...</td>\n",
       "      <td>0</td>\n",
       "      <td>0</td>\n",
       "      <td>0</td>\n",
       "      <td>0</td>\n",
       "      <td>0</td>\n",
       "      <td>0</td>\n",
       "      <td>0</td>\n",
       "      <td>0</td>\n",
       "      <td>0</td>\n",
       "      <td>0</td>\n",
       "    </tr>\n",
       "    <tr>\n",
       "      <th>4</th>\n",
       "      <td>20140101140168</td>\n",
       "      <td>39</td>\n",
       "      <td>2</td>\n",
       "      <td>2</td>\n",
       "      <td>23</td>\n",
       "      <td>2</td>\n",
       "      <td>-1</td>\n",
       "      <td>1</td>\n",
       "      <td>0</td>\n",
       "      <td>0</td>\n",
       "      <td>...</td>\n",
       "      <td>0</td>\n",
       "      <td>0</td>\n",
       "      <td>0</td>\n",
       "      <td>0</td>\n",
       "      <td>0</td>\n",
       "      <td>0</td>\n",
       "      <td>0</td>\n",
       "      <td>0</td>\n",
       "      <td>0</td>\n",
       "      <td>0</td>\n",
       "    </tr>\n",
       "    <tr>\n",
       "      <th>5</th>\n",
       "      <td>20140101140537</td>\n",
       "      <td>36</td>\n",
       "      <td>2</td>\n",
       "      <td>1</td>\n",
       "      <td>85</td>\n",
       "      <td>1</td>\n",
       "      <td>-1</td>\n",
       "      <td>0</td>\n",
       "      <td>0</td>\n",
       "      <td>0</td>\n",
       "      <td>...</td>\n",
       "      <td>0</td>\n",
       "      <td>0</td>\n",
       "      <td>0</td>\n",
       "      <td>0</td>\n",
       "      <td>0</td>\n",
       "      <td>0</td>\n",
       "      <td>0</td>\n",
       "      <td>0</td>\n",
       "      <td>0</td>\n",
       "      <td>0</td>\n",
       "    </tr>\n",
       "  </tbody>\n",
       "</table>\n",
       "<p>5 rows × 43 columns</p>\n",
       "</div>"
      ],
      "text/plain": [
       "          case_id  high_levl_edu  race  metro  age  sex  hs_or_col  \\\n",
       "1  20140101140011             37     2      1   16    2          1   \n",
       "2  20140101140028             38     1      1   65    2         -1   \n",
       "3  20140101140063             39     2      2   50    2         -1   \n",
       "4  20140101140168             39     2      2   23    2         -1   \n",
       "5  20140101140537             36     2      1   85    1         -1   \n",
       "\n",
       "   num_of_children  Tobacco and drug use  Doing aerobics       ...        \\\n",
       "1                1                     0               0       ...         \n",
       "2                3                     0               0       ...         \n",
       "3                0                     0               0       ...         \n",
       "4                1                     0               0       ...         \n",
       "5                0                     0               0       ...         \n",
       "\n",
       "   Using cardiovascular equipment  Vehicle touring/racing  Playing volleyball  \\\n",
       "1                               0                       0                   0   \n",
       "2                               0                       0                   0   \n",
       "3                               0                       0                   0   \n",
       "4                               0                       0                   0   \n",
       "5                               0                       0                   0   \n",
       "\n",
       "   Walking  Participating in water sports  Weightlifting/strength training  \\\n",
       "1        0                              0                                0   \n",
       "2        0                              0                                0   \n",
       "3        0                              0                                0   \n",
       "4        0                              0                                0   \n",
       "5        0                              0                                0   \n",
       "\n",
       "   Working out, unspecified  Doing yoga  Playing sports n.e.c.*  \\\n",
       "1                         0           0                       0   \n",
       "2                         0           0                       0   \n",
       "3                         0           0                       0   \n",
       "4                         0           0                       0   \n",
       "5                         0           0                       0   \n",
       "\n",
       "   all_activities  \n",
       "1               0  \n",
       "2               0  \n",
       "3               0  \n",
       "4               0  \n",
       "5               0  \n",
       "\n",
       "[5 rows x 43 columns]"
      ]
     },
     "execution_count": 14,
     "metadata": {},
     "output_type": "execute_result"
    }
   ],
   "source": [
    "no_participating.head()"
   ]
  },
  {
   "cell_type": "code",
   "execution_count": 15,
   "metadata": {
    "collapsed": false,
    "scrolled": true
   },
   "outputs": [
    {
     "data": {
      "image/png": "[encoded data removed]",
      "text/plain": [
       "<matplotlib.figure.Figure at 0x10fdaf358>"
      ]
     },
     "metadata": {},
     "output_type": "display_data"
    },
    {
     "name": "stdout",
     "output_type": "stream",
     "text": [
      "People surveyed who spent any time participating in sports and other physical activities had a mean age of 46.71611982881598.\n"
     ]
    },
    {
     "data": {
      "image/png": "[encoded data removed]",
      "text/plain": [
       "<matplotlib.figure.Figure at 0x10fee4b38>"
      ]
     },
     "metadata": {},
     "output_type": "display_data"
    },
    {
     "name": "stdout",
     "output_type": "stream",
     "text": [
      "People surveyed who spent no time participating in sports and other physical activities had a mean age of 49.258404468331754.\n"
     ]
    }
   ],
   "source": [
    "any_participating['age'].plot(kind='hist', bins=10, title='Age of Those Who Participated In Any Physical Activity')\n",
    "plt.xlabel('Age')\n",
    "plt.ylabel('Number of Respondents')\n",
    "plt.show()\n",
    "\n",
    "print('People surveyed who spent any time participating in sports and other physical activities had a mean age of {}.'.format(any_participating['age'].mean()))\n",
    "\n",
    "no_participating['age'].plot(kind='hist', bins=10,title='Age of Those Who Participated In No Physical Activity')\n",
    "plt.xlabel('Age')\n",
    "plt.ylabel('Number of Respondents')\n",
    "plt.show()\n",
    "\n",
    "print('People surveyed who spent no time participating in sports and other physical activities had a mean age of {}.'.format(no_participating['age'].mean()))"
   ]
  },
  {
   "cell_type": "code",
   "execution_count": 16,
   "metadata": {
    "collapsed": false,
    "scrolled": true
   },
   "outputs": [
    {
     "name": "stdout",
     "output_type": "stream",
     "text": [
      "There was a correlation of -0.08314367945265462 between age and the amount of time spent participating in sports and other physical activities.\n"
     ]
    }
   ],
   "source": [
    "print('There was a correlation of {} between age and the amount of time spent participating in sports and other physical activities.'.format(participating['age'].corr(participating['all_activities'])))"
   ]
  },
  {
   "cell_type": "code",
   "execution_count": 17,
   "metadata": {
    "collapsed": false,
    "scrolled": true
   },
   "outputs": [
    {
     "data": {
      "image/png": "[encoded data removed]",
      "text/plain": [
       "<matplotlib.figure.Figure at 0x10feab2b0>"
      ]
     },
     "metadata": {},
     "output_type": "display_data"
    }
   ],
   "source": [
    "participating.plot(kind='scatter', x='age', y='all_activities')\n",
    "plt.xlabel('Age')\n",
    "plt.ylabel('Time Spent Participating in Physical Activities')\n",
    "plt.show()"
   ]
  },
  {
   "cell_type": "code",
   "execution_count": 18,
   "metadata": {
    "collapsed": false
   },
   "outputs": [
    {
     "data": {
      "image/png": "[encoded data removed]",
      "text/plain": [
       "<matplotlib.figure.Figure at 0x10fee6710>"
      ]
     },
     "metadata": {},
     "output_type": "display_data"
    },
    {
     "name": "stdout",
     "output_type": "stream",
     "text": [
      "People surveyed who spent any time participating in sports and other physical activities had a mean 0.8074179743223966 children.\n"
     ]
    },
    {
     "data": {
      "image/png": "[encoded data removed]",
      "text/plain": [
       "<matplotlib.figure.Figure at 0x110386898>"
      ]
     },
     "metadata": {},
     "output_type": "display_data"
    },
    {
     "name": "stdout",
     "output_type": "stream",
     "text": [
      "People surveyed who spent no time participating in sports and other physical activities had a mean of 0.7857519232795869 children.\n"
     ]
    }
   ],
   "source": [
    "any_participating['num_of_children'].plot(kind='hist', bins=10, title='Number of Children of Those Who Participated In Any Physical Activity')\n",
    "plt.xlabel('Number of Children')\n",
    "plt.ylabel('Number of Respondents')\n",
    "plt.show()\n",
    "\n",
    "print('People surveyed who spent any time participating in sports and other physical activities had a mean {} children.'.format(any_participating['num_of_children'].mean()))\n",
    "\n",
    "no_participating['num_of_children'].plot(kind='hist', bins=10,title='Number of Children of Those Who Participated In No Physical Activity')\n",
    "plt.xlabel('Number of Children')\n",
    "plt.ylabel('Number of Respondents')\n",
    "plt.show()\n",
    "\n",
    "print('People surveyed who spent no time participating in sports and other physical activities had a mean of {} children.'.format(no_participating['num_of_children'].mean()))"
   ]
  },
  {
   "cell_type": "code",
   "execution_count": 19,
   "metadata": {
    "collapsed": false
   },
   "outputs": [
    {
     "name": "stdout",
     "output_type": "stream",
     "text": [
      "There was a correlation of 0.024320980627796814 between number of children and the amount of time spent participating in sports and other physical activities.\n"
     ]
    }
   ],
   "source": [
    "print('There was a correlation of {} between number of children and the amount of time spent participating in sports and other physical activities.'.format(participating['all_activities'].corr(participating['num_of_children'])))"
   ]
  },
  {
   "cell_type": "code",
   "execution_count": 20,
   "metadata": {
    "collapsed": false
   },
   "outputs": [
    {
     "data": {
      "image/png": "[encoded data removed]",
      "text/plain": [
       "<matplotlib.figure.Figure at 0x10fdad550>"
      ]
     },
     "metadata": {},
     "output_type": "display_data"
    }
   ],
   "source": [
    "participating.plot(kind='scatter', x='num_of_children', y='all_activities')\n",
    "plt.xlabel('Number of Children')\n",
    "plt.ylabel('Time Spent Participating in Physical Activities')\n",
    "plt.show()"
   ]
  },
  {
   "cell_type": "code",
   "execution_count": 21,
   "metadata": {
    "collapsed": true
   },
   "outputs": [],
   "source": [
    "female = participating[participating['sex'] == 2]\n",
    "\n",
    "male = participating[participating['sex'] == 1]"
   ]
  },
  {
   "cell_type": "code",
   "execution_count": 22,
   "metadata": {
    "collapsed": false
   },
   "outputs": [
    {
     "data": {
      "image/png": "[encoded data removed]",
      "text/plain": [
       "<matplotlib.figure.Figure at 0x118f41588>"
      ]
     },
     "metadata": {},
     "output_type": "display_data"
    },
    {
     "name": "stdout",
     "output_type": "stream",
     "text": [
      "Females surveyed spent a mean of 11.89239332096475 minutes participating in physical activities.\n"
     ]
    },
    {
     "data": {
      "image/png": "[encoded data removed]",
      "text/plain": [
       "<matplotlib.figure.Figure at 0x118fd4d68>"
      ]
     },
     "metadata": {},
     "output_type": "display_data"
    },
    {
     "name": "stdout",
     "output_type": "stream",
     "text": [
      "Males surveyed spent a mean of 23.188914910226387 minutes participating in physical activities.\n"
     ]
    }
   ],
   "source": [
    "female['all_activities'].plot(kind='hist',bins=20, title='Time Females Spent Participating in Physical Activities')\n",
    "plt.xlabel('Time Spent Participating in Physical Activities')\n",
    "plt.ylabel('Number of Respondents')\n",
    "plt.show()\n",
    "\n",
    "print('Females surveyed spent a mean of {} minutes participating in physical activities.'.format(female['all_activities'].mean()))\n",
    "\n",
    "male['all_activities'].plot(kind='hist',bins=20, title='Time Males Spent Participating in Physical Activities')\n",
    "plt.xlabel('Time Spent Participating in Physical Activities')\n",
    "plt.ylabel('Number of Respondents')\n",
    "plt.show()\n",
    "\n",
    "print('Males surveyed spent a mean of {} minutes participating in physical activities.'.format(male['all_activities'].mean()))"
   ]
  },
  {
   "cell_type": "markdown",
   "metadata": {},
   "source": [
    "The above data shows that those who participated in any amount of physical activity had a younger mean age than those who did not participated in any amount of physical activity. The data shows a negative correlation between age and the amount of time spent participating in physical activities. The data also points towards correlation between the number of children in the household the amount of time spent participating in physical activity decreases. Lastly the data shows that male respondents spent twice the time participating in physical activities as female respondents."
   ]
  },
  {
   "cell_type": "markdown",
   "metadata": {},
   "source": [
    "## Tobacco and Drug Use"
   ]
  },
  {
   "cell_type": "code",
   "execution_count": 23,
   "metadata": {
    "collapsed": false
   },
   "outputs": [],
   "source": [
    "no_tandd = participating[participating['Tobacco and drug use'] > 0]\n",
    "any_tandd = participating[participating['Tobacco and drug use'] == 0]"
   ]
  },
  {
   "cell_type": "code",
   "execution_count": 24,
   "metadata": {
    "collapsed": false
   },
   "outputs": [
    {
     "data": {
      "text/html": [
       "<div>\n",
       "<table border=\"1\" class=\"dataframe\">\n",
       "  <thead>\n",
       "    <tr style=\"text-align: right;\">\n",
       "      <th></th>\n",
       "      <th>case_id</th>\n",
       "      <th>high_levl_edu</th>\n",
       "      <th>race</th>\n",
       "      <th>metro</th>\n",
       "      <th>age</th>\n",
       "      <th>sex</th>\n",
       "      <th>hs_or_col</th>\n",
       "      <th>num_of_children</th>\n",
       "      <th>Tobacco and drug use</th>\n",
       "      <th>Doing aerobics</th>\n",
       "      <th>...</th>\n",
       "      <th>Using cardiovascular equipment</th>\n",
       "      <th>Vehicle touring/racing</th>\n",
       "      <th>Playing volleyball</th>\n",
       "      <th>Walking</th>\n",
       "      <th>Participating in water sports</th>\n",
       "      <th>Weightlifting/strength training</th>\n",
       "      <th>Working out, unspecified</th>\n",
       "      <th>Doing yoga</th>\n",
       "      <th>Playing sports n.e.c.*</th>\n",
       "      <th>all_activities</th>\n",
       "    </tr>\n",
       "  </thead>\n",
       "  <tbody>\n",
       "    <tr>\n",
       "      <th>21</th>\n",
       "      <td>20140101140875</td>\n",
       "      <td>43</td>\n",
       "      <td>1</td>\n",
       "      <td>1</td>\n",
       "      <td>62</td>\n",
       "      <td>1</td>\n",
       "      <td>-1</td>\n",
       "      <td>0</td>\n",
       "      <td>10</td>\n",
       "      <td>0</td>\n",
       "      <td>...</td>\n",
       "      <td>0</td>\n",
       "      <td>0</td>\n",
       "      <td>0</td>\n",
       "      <td>0</td>\n",
       "      <td>0</td>\n",
       "      <td>0</td>\n",
       "      <td>0</td>\n",
       "      <td>0</td>\n",
       "      <td>0</td>\n",
       "      <td>0</td>\n",
       "    </tr>\n",
       "    <tr>\n",
       "      <th>111</th>\n",
       "      <td>20140110131176</td>\n",
       "      <td>39</td>\n",
       "      <td>1</td>\n",
       "      <td>1</td>\n",
       "      <td>51</td>\n",
       "      <td>2</td>\n",
       "      <td>-1</td>\n",
       "      <td>1</td>\n",
       "      <td>15</td>\n",
       "      <td>0</td>\n",
       "      <td>...</td>\n",
       "      <td>0</td>\n",
       "      <td>0</td>\n",
       "      <td>0</td>\n",
       "      <td>0</td>\n",
       "      <td>0</td>\n",
       "      <td>0</td>\n",
       "      <td>0</td>\n",
       "      <td>0</td>\n",
       "      <td>0</td>\n",
       "      <td>0</td>\n",
       "    </tr>\n",
       "    <tr>\n",
       "      <th>171</th>\n",
       "      <td>20140111130952</td>\n",
       "      <td>39</td>\n",
       "      <td>1</td>\n",
       "      <td>1</td>\n",
       "      <td>54</td>\n",
       "      <td>1</td>\n",
       "      <td>-1</td>\n",
       "      <td>1</td>\n",
       "      <td>60</td>\n",
       "      <td>0</td>\n",
       "      <td>...</td>\n",
       "      <td>0</td>\n",
       "      <td>0</td>\n",
       "      <td>0</td>\n",
       "      <td>0</td>\n",
       "      <td>0</td>\n",
       "      <td>0</td>\n",
       "      <td>0</td>\n",
       "      <td>0</td>\n",
       "      <td>0</td>\n",
       "      <td>0</td>\n",
       "    </tr>\n",
       "    <tr>\n",
       "      <th>228</th>\n",
       "      <td>20140111131573</td>\n",
       "      <td>40</td>\n",
       "      <td>4</td>\n",
       "      <td>1</td>\n",
       "      <td>21</td>\n",
       "      <td>1</td>\n",
       "      <td>2</td>\n",
       "      <td>0</td>\n",
       "      <td>5</td>\n",
       "      <td>0</td>\n",
       "      <td>...</td>\n",
       "      <td>0</td>\n",
       "      <td>0</td>\n",
       "      <td>0</td>\n",
       "      <td>0</td>\n",
       "      <td>0</td>\n",
       "      <td>0</td>\n",
       "      <td>0</td>\n",
       "      <td>0</td>\n",
       "      <td>0</td>\n",
       "      <td>0</td>\n",
       "    </tr>\n",
       "    <tr>\n",
       "      <th>281</th>\n",
       "      <td>20140111132403</td>\n",
       "      <td>39</td>\n",
       "      <td>1</td>\n",
       "      <td>1</td>\n",
       "      <td>36</td>\n",
       "      <td>1</td>\n",
       "      <td>-1</td>\n",
       "      <td>2</td>\n",
       "      <td>5</td>\n",
       "      <td>0</td>\n",
       "      <td>...</td>\n",
       "      <td>0</td>\n",
       "      <td>0</td>\n",
       "      <td>0</td>\n",
       "      <td>0</td>\n",
       "      <td>0</td>\n",
       "      <td>0</td>\n",
       "      <td>0</td>\n",
       "      <td>0</td>\n",
       "      <td>0</td>\n",
       "      <td>0</td>\n",
       "    </tr>\n",
       "  </tbody>\n",
       "</table>\n",
       "<p>5 rows × 43 columns</p>\n",
       "</div>"
      ],
      "text/plain": [
       "            case_id  high_levl_edu  race  metro  age  sex  hs_or_col  \\\n",
       "21   20140101140875             43     1      1   62    1         -1   \n",
       "111  20140110131176             39     1      1   51    2         -1   \n",
       "171  20140111130952             39     1      1   54    1         -1   \n",
       "228  20140111131573             40     4      1   21    1          2   \n",
       "281  20140111132403             39     1      1   36    1         -1   \n",
       "\n",
       "     num_of_children  Tobacco and drug use  Doing aerobics       ...        \\\n",
       "21                 0                    10               0       ...         \n",
       "111                1                    15               0       ...         \n",
       "171                1                    60               0       ...         \n",
       "228                0                     5               0       ...         \n",
       "281                2                     5               0       ...         \n",
       "\n",
       "     Using cardiovascular equipment  Vehicle touring/racing  \\\n",
       "21                                0                       0   \n",
       "111                               0                       0   \n",
       "171                               0                       0   \n",
       "228                               0                       0   \n",
       "281                               0                       0   \n",
       "\n",
       "     Playing volleyball  Walking  Participating in water sports  \\\n",
       "21                    0        0                              0   \n",
       "111                   0        0                              0   \n",
       "171                   0        0                              0   \n",
       "228                   0        0                              0   \n",
       "281                   0        0                              0   \n",
       "\n",
       "     Weightlifting/strength training  Working out, unspecified  Doing yoga  \\\n",
       "21                                 0                         0           0   \n",
       "111                                0                         0           0   \n",
       "171                                0                         0           0   \n",
       "228                                0                         0           0   \n",
       "281                                0                         0           0   \n",
       "\n",
       "     Playing sports n.e.c.*  all_activities  \n",
       "21                        0               0  \n",
       "111                       0               0  \n",
       "171                       0               0  \n",
       "228                       0               0  \n",
       "281                       0               0  \n",
       "\n",
       "[5 rows x 43 columns]"
      ]
     },
     "execution_count": 24,
     "metadata": {},
     "output_type": "execute_result"
    }
   ],
   "source": [
    "no_tandd.head()"
   ]
  },
  {
   "cell_type": "code",
   "execution_count": 25,
   "metadata": {
    "collapsed": false
   },
   "outputs": [
    {
     "data": {
      "text/html": [
       "<div>\n",
       "<table border=\"1\" class=\"dataframe\">\n",
       "  <thead>\n",
       "    <tr style=\"text-align: right;\">\n",
       "      <th></th>\n",
       "      <th>case_id</th>\n",
       "      <th>high_levl_edu</th>\n",
       "      <th>race</th>\n",
       "      <th>metro</th>\n",
       "      <th>age</th>\n",
       "      <th>sex</th>\n",
       "      <th>hs_or_col</th>\n",
       "      <th>num_of_children</th>\n",
       "      <th>Tobacco and drug use</th>\n",
       "      <th>Doing aerobics</th>\n",
       "      <th>...</th>\n",
       "      <th>Using cardiovascular equipment</th>\n",
       "      <th>Vehicle touring/racing</th>\n",
       "      <th>Playing volleyball</th>\n",
       "      <th>Walking</th>\n",
       "      <th>Participating in water sports</th>\n",
       "      <th>Weightlifting/strength training</th>\n",
       "      <th>Working out, unspecified</th>\n",
       "      <th>Doing yoga</th>\n",
       "      <th>Playing sports n.e.c.*</th>\n",
       "      <th>all_activities</th>\n",
       "    </tr>\n",
       "  </thead>\n",
       "  <tbody>\n",
       "    <tr>\n",
       "      <th>0</th>\n",
       "      <td>20140101140007</td>\n",
       "      <td>39</td>\n",
       "      <td>1</td>\n",
       "      <td>1</td>\n",
       "      <td>20</td>\n",
       "      <td>2</td>\n",
       "      <td>-1</td>\n",
       "      <td>1</td>\n",
       "      <td>0</td>\n",
       "      <td>0</td>\n",
       "      <td>...</td>\n",
       "      <td>0</td>\n",
       "      <td>0</td>\n",
       "      <td>0</td>\n",
       "      <td>0</td>\n",
       "      <td>0</td>\n",
       "      <td>0</td>\n",
       "      <td>0</td>\n",
       "      <td>0</td>\n",
       "      <td>0</td>\n",
       "      <td>90</td>\n",
       "    </tr>\n",
       "    <tr>\n",
       "      <th>1</th>\n",
       "      <td>20140101140011</td>\n",
       "      <td>37</td>\n",
       "      <td>2</td>\n",
       "      <td>1</td>\n",
       "      <td>16</td>\n",
       "      <td>2</td>\n",
       "      <td>1</td>\n",
       "      <td>1</td>\n",
       "      <td>0</td>\n",
       "      <td>0</td>\n",
       "      <td>...</td>\n",
       "      <td>0</td>\n",
       "      <td>0</td>\n",
       "      <td>0</td>\n",
       "      <td>0</td>\n",
       "      <td>0</td>\n",
       "      <td>0</td>\n",
       "      <td>0</td>\n",
       "      <td>0</td>\n",
       "      <td>0</td>\n",
       "      <td>0</td>\n",
       "    </tr>\n",
       "    <tr>\n",
       "      <th>2</th>\n",
       "      <td>20140101140028</td>\n",
       "      <td>38</td>\n",
       "      <td>1</td>\n",
       "      <td>1</td>\n",
       "      <td>65</td>\n",
       "      <td>2</td>\n",
       "      <td>-1</td>\n",
       "      <td>3</td>\n",
       "      <td>0</td>\n",
       "      <td>0</td>\n",
       "      <td>...</td>\n",
       "      <td>0</td>\n",
       "      <td>0</td>\n",
       "      <td>0</td>\n",
       "      <td>0</td>\n",
       "      <td>0</td>\n",
       "      <td>0</td>\n",
       "      <td>0</td>\n",
       "      <td>0</td>\n",
       "      <td>0</td>\n",
       "      <td>0</td>\n",
       "    </tr>\n",
       "    <tr>\n",
       "      <th>3</th>\n",
       "      <td>20140101140063</td>\n",
       "      <td>39</td>\n",
       "      <td>2</td>\n",
       "      <td>2</td>\n",
       "      <td>50</td>\n",
       "      <td>2</td>\n",
       "      <td>-1</td>\n",
       "      <td>0</td>\n",
       "      <td>0</td>\n",
       "      <td>0</td>\n",
       "      <td>...</td>\n",
       "      <td>0</td>\n",
       "      <td>0</td>\n",
       "      <td>0</td>\n",
       "      <td>0</td>\n",
       "      <td>0</td>\n",
       "      <td>0</td>\n",
       "      <td>0</td>\n",
       "      <td>0</td>\n",
       "      <td>0</td>\n",
       "      <td>0</td>\n",
       "    </tr>\n",
       "    <tr>\n",
       "      <th>4</th>\n",
       "      <td>20140101140168</td>\n",
       "      <td>39</td>\n",
       "      <td>2</td>\n",
       "      <td>2</td>\n",
       "      <td>23</td>\n",
       "      <td>2</td>\n",
       "      <td>-1</td>\n",
       "      <td>1</td>\n",
       "      <td>0</td>\n",
       "      <td>0</td>\n",
       "      <td>...</td>\n",
       "      <td>0</td>\n",
       "      <td>0</td>\n",
       "      <td>0</td>\n",
       "      <td>0</td>\n",
       "      <td>0</td>\n",
       "      <td>0</td>\n",
       "      <td>0</td>\n",
       "      <td>0</td>\n",
       "      <td>0</td>\n",
       "      <td>0</td>\n",
       "    </tr>\n",
       "  </tbody>\n",
       "</table>\n",
       "<p>5 rows × 43 columns</p>\n",
       "</div>"
      ],
      "text/plain": [
       "          case_id  high_levl_edu  race  metro  age  sex  hs_or_col  \\\n",
       "0  20140101140007             39     1      1   20    2         -1   \n",
       "1  20140101140011             37     2      1   16    2          1   \n",
       "2  20140101140028             38     1      1   65    2         -1   \n",
       "3  20140101140063             39     2      2   50    2         -1   \n",
       "4  20140101140168             39     2      2   23    2         -1   \n",
       "\n",
       "   num_of_children  Tobacco and drug use  Doing aerobics       ...        \\\n",
       "0                1                     0               0       ...         \n",
       "1                1                     0               0       ...         \n",
       "2                3                     0               0       ...         \n",
       "3                0                     0               0       ...         \n",
       "4                1                     0               0       ...         \n",
       "\n",
       "   Using cardiovascular equipment  Vehicle touring/racing  Playing volleyball  \\\n",
       "0                               0                       0                   0   \n",
       "1                               0                       0                   0   \n",
       "2                               0                       0                   0   \n",
       "3                               0                       0                   0   \n",
       "4                               0                       0                   0   \n",
       "\n",
       "   Walking  Participating in water sports  Weightlifting/strength training  \\\n",
       "0        0                              0                                0   \n",
       "1        0                              0                                0   \n",
       "2        0                              0                                0   \n",
       "3        0                              0                                0   \n",
       "4        0                              0                                0   \n",
       "\n",
       "   Working out, unspecified  Doing yoga  Playing sports n.e.c.*  \\\n",
       "0                         0           0                       0   \n",
       "1                         0           0                       0   \n",
       "2                         0           0                       0   \n",
       "3                         0           0                       0   \n",
       "4                         0           0                       0   \n",
       "\n",
       "   all_activities  \n",
       "0              90  \n",
       "1               0  \n",
       "2               0  \n",
       "3               0  \n",
       "4               0  \n",
       "\n",
       "[5 rows x 43 columns]"
      ]
     },
     "execution_count": 25,
     "metadata": {},
     "output_type": "execute_result"
    }
   ],
   "source": [
    "any_tandd.head()"
   ]
  },
  {
   "cell_type": "code",
   "execution_count": 26,
   "metadata": {
    "collapsed": false
   },
   "outputs": [
    {
     "data": {
      "image/png": "[encoded data removed]",
      "text/plain": [
       "<matplotlib.figure.Figure at 0x1100f4668>"
      ]
     },
     "metadata": {},
     "output_type": "display_data"
    },
    {
     "name": "stdout",
     "output_type": "stream",
     "text": [
      "People surveyed who spent no time using tobacco or drugs had an average age of 48.865667718191375.\n"
     ]
    },
    {
     "data": {
      "image/png": "[encoded data removed]",
      "text/plain": [
       "<matplotlib.figure.Figure at 0x11903a390>"
      ]
     },
     "metadata": {},
     "output_type": "display_data"
    },
    {
     "name": "stdout",
     "output_type": "stream",
     "text": [
      "People surveyed who spent any time using tobacco or drugs had an average age of 44.455555555555556.\n"
     ]
    }
   ],
   "source": [
    "no_tandd['age'].plot(kind='hist', bins=10, title='Age of Those Who Used No Tobacco Or Drugs.')\n",
    "plt.xlabel('Age')\n",
    "plt.ylabel('Number of Respondents')\n",
    "plt.show()\n",
    "\n",
    "print('People surveyed who spent no time using tobacco or drugs had an average age of {}.'.format(any_tandd['age'].mean()))\n",
    "\n",
    "any_tandd['age'].plot(kind='hist', bins=10, title='Age of Those Who Used No Tobacco Or Drugs.')\n",
    "plt.xlabel('Age')\n",
    "plt.ylabel('Number of Respondents')\n",
    "plt.show()\n",
    "\n",
    "print('People surveyed who spent any time using tobacco or drugs had an average age of {}.'.format(no_tandd['age'].mean()))\n"
   ]
  },
  {
   "cell_type": "code",
   "execution_count": 27,
   "metadata": {
    "collapsed": false,
    "scrolled": true
   },
   "outputs": [
    {
     "name": "stdout",
     "output_type": "stream",
     "text": [
      "There was a correlation of -0.012527764390442089 between time using tobacco or drugs and the age of the respondents.\n"
     ]
    }
   ],
   "source": [
    "print('There was a correlation of {} between time using tobacco or drugs and the age of the respondents.'.format(participating['age'].corr(participating['Tobacco and drug use'])))"
   ]
  },
  {
   "cell_type": "code",
   "execution_count": 28,
   "metadata": {
    "collapsed": false,
    "scrolled": true
   },
   "outputs": [
    {
     "data": {
      "image/png": "[encoded data removed]",
      "text/plain": [
       "<matplotlib.figure.Figure at 0x1100efb00>"
      ]
     },
     "metadata": {},
     "output_type": "display_data"
    }
   ],
   "source": [
    "participating.plot(kind='scatter', x='age', y='Tobacco and drug use')\n",
    "plt.xlabel('Age')\n",
    "plt.ylabel('Time Spent Using Tobacco and Drugs')\n",
    "plt.show()"
   ]
  },
  {
   "cell_type": "code",
   "execution_count": 29,
   "metadata": {
    "collapsed": false
   },
   "outputs": [
    {
     "data": {
      "image/png": "[encoded data removed]",
      "text/plain": [
       "<matplotlib.figure.Figure at 0x10feda898>"
      ]
     },
     "metadata": {},
     "output_type": "display_data"
    },
    {
     "name": "stdout",
     "output_type": "stream",
     "text": [
      "People surveyed who spent no time using tobacco or drugs participated in a mean of 10.472222222222221 minutes of physical activity.\n"
     ]
    },
    {
     "data": {
      "image/png": "[encoded data removed]",
      "text/plain": [
       "<matplotlib.figure.Figure at 0x1192eba20>"
      ]
     },
     "metadata": {},
     "output_type": "display_data"
    },
    {
     "name": "stdout",
     "output_type": "stream",
     "text": [
      "People surveyed who spent any time using tobacco or drugs participated in a mean of 16.986943568173853 minutes of physical activity.\n"
     ]
    }
   ],
   "source": [
    "no_tandd['all_activities'].plot(kind='hist', bins=10, title='Time Participated In Any Physical Activity By Those Who Spent No Time Using Tobacco or Drugs')\n",
    "plt.xlabel('Time Spent Participating Physical Activity')\n",
    "plt.ylabel('Number of Respondents')\n",
    "plt.show()\n",
    "\n",
    "print('People surveyed who spent no time using tobacco or drugs participated in a mean of {} minutes of physical activity.'.format(no_tandd['all_activities'].mean()))\n",
    "\n",
    "any_tandd['all_activities'].plot(kind='hist', bins=10, title='Time Participated In Any Physical Activity By Those Who Spent No Time Using Tobacco or Drugs')\n",
    "plt.xlabel('Time Spent Participating Physical Activity')\n",
    "plt.ylabel('Number of Respondents')\n",
    "plt.show()\n",
    "\n",
    "print('People surveyed who spent any time using tobacco or drugs participated in a mean of {} minutes of physical activity.'.format(any_tandd['all_activities'].mean()))"
   ]
  },
  {
   "cell_type": "code",
   "execution_count": 30,
   "metadata": {
    "collapsed": false
   },
   "outputs": [
    {
     "name": "stdout",
     "output_type": "stream",
     "text": [
      "There was a correlation of -0.005585310627762211 between time using tobacco or drugs and the number of minutes of physical activity.\n"
     ]
    }
   ],
   "source": [
    "print('There was a correlation of {} between time using tobacco or drugs and the number of minutes of physical activity.'.format(participating['all_activities'].corr(participating['Tobacco and drug use'])))"
   ]
  },
  {
   "cell_type": "code",
   "execution_count": 31,
   "metadata": {
    "collapsed": false
   },
   "outputs": [
    {
     "data": {
      "image/png": "[encoded data removed]",
      "text/plain": [
       "<matplotlib.figure.Figure at 0x1107028d0>"
      ]
     },
     "metadata": {},
     "output_type": "display_data"
    }
   ],
   "source": [
    "participating.plot(kind='scatter', x='all_activities', y='Tobacco and drug use')\n",
    "plt.xlabel('Time Participated In Any Physical Activity')\n",
    "plt.ylabel('Time Spent Using Tobacco and Drugs')\n",
    "plt.show()"
   ]
  },
  {
   "cell_type": "code",
   "execution_count": 32,
   "metadata": {
    "collapsed": true
   },
   "outputs": [],
   "source": [
    "f_tandd = participating[participating['sex'] == 2]\n",
    "m_tandd = participating[participating['sex'] == 1]"
   ]
  },
  {
   "cell_type": "code",
   "execution_count": 33,
   "metadata": {
    "collapsed": false
   },
   "outputs": [
    {
     "data": {
      "image/png": "[encoded data removed]",
      "text/plain": [
       "<matplotlib.figure.Figure at 0x10fdf0f28>"
      ]
     },
     "metadata": {},
     "output_type": "display_data"
    },
    {
     "name": "stdout",
     "output_type": "stream",
     "text": [
      "Females surveyed spent a mean of 0.4197588126159555 minutes using tobacco and drugs.\n"
     ]
    },
    {
     "data": {
      "image/png": "[encoded data removed]",
      "text/plain": [
       "<matplotlib.figure.Figure at 0x1106f0e80>"
      ]
     },
     "metadata": {},
     "output_type": "display_data"
    },
    {
     "name": "stdout",
     "output_type": "stream",
     "text": [
      "Males surveyed spent a mean of 0.3914910226385636 minutes using tobacco and drugs.\n"
     ]
    }
   ],
   "source": [
    "f_tandd['Tobacco and drug use'].plot(kind='hist',bins=20, title='Time Females Used Tobacco or Drugs')\n",
    "plt.xlabel('Time Spent Using Tobacco and Drugs')\n",
    "plt.ylabel('Number of Respondents')\n",
    "plt.show()\n",
    "\n",
    "print('Females surveyed spent a mean of {} minutes using tobacco and drugs.'.format(f_tandd['Tobacco and drug use'].mean()))\n",
    "\n",
    "m_tandd['Tobacco and drug use'].plot(kind='hist',bins=20, title='Time Males Used Tobacco or Drugs')\n",
    "plt.xlabel('Time Spent Using Tobacco and Drugs')\n",
    "plt.ylabel('Number of Respondents')\n",
    "plt.show()\n",
    "\n",
    "print('Males surveyed spent a mean of {} minutes using tobacco and drugs.'.format(m_tandd['Tobacco and drug use'].mean()))"
   ]
  },
  {
   "cell_type": "markdown",
   "metadata": {},
   "source": [
    "The above data shows that the mean age of respondents who spent no time using tobacco or drugs was higher than the mean age of those who spent any time using tobacco or drugs. There was also a slight negative correlation between increased age and a lower amount of time using tobacco or drugs. The data also shows that respondents who spent any time participating in a physical activities spent more time using tobacco or drugs than those who spent no time participating in a physical activities. Lastly the data showed that on average females spent slightly more time using tobacco and drugs than males did."
   ]
  },
  {
   "cell_type": "markdown",
   "metadata": {},
   "source": [
    "# Religious Data"
   ]
  },
  {
   "cell_type": "code",
   "execution_count": 34,
   "metadata": {
    "collapsed": true
   },
   "outputs": [],
   "source": [
    "religious_data = summary[['case_id', 'high_levl_edu', 'race', 'metro', 'age', 'sex', \n",
    "                          'hs_or_col', 'num_of_children', 'Tobacco and drug use', \n",
    "                          'Attending religious services', \n",
    "                          'Participation in religious practices', \n",
    "                          'Waiting associated w/religious & spiritual activities', \n",
    "                          'Security procedures rel. to religious & spiritual activities', \n",
    "                          'Religious education activities', \n",
    "                          'Religious and spiritual activities, n.e.c.*']]"
   ]
  },
  {
   "cell_type": "code",
   "execution_count": 35,
   "metadata": {
    "collapsed": false,
    "scrolled": true
   },
   "outputs": [],
   "source": [
    "total_religious_data = religious_data.copy()"
   ]
  },
  {
   "cell_type": "code",
   "execution_count": 36,
   "metadata": {
    "collapsed": false,
    "scrolled": true
   },
   "outputs": [],
   "source": [
    "total_religious_data[\"all_religious_activity\"] = (religious_data['Attending religious services']+religious_data['Participation in religious practices']+religious_data['Waiting associated w/religious & spiritual activities']+religious_data['Security procedures rel. to religious & spiritual activities']+religious_data['Religious education activities']+religious_data['Religious and spiritual activities, n.e.c.*'])"
   ]
  },
  {
   "cell_type": "code",
   "execution_count": 37,
   "metadata": {
    "collapsed": false,
    "scrolled": true
   },
   "outputs": [
    {
     "data": {
      "text/html": [
       "<div>\n",
       "<table border=\"1\" class=\"dataframe\">\n",
       "  <thead>\n",
       "    <tr style=\"text-align: right;\">\n",
       "      <th></th>\n",
       "      <th>case_id</th>\n",
       "      <th>high_levl_edu</th>\n",
       "      <th>race</th>\n",
       "      <th>metro</th>\n",
       "      <th>age</th>\n",
       "      <th>sex</th>\n",
       "      <th>hs_or_col</th>\n",
       "      <th>num_of_children</th>\n",
       "      <th>Tobacco and drug use</th>\n",
       "      <th>Attending religious services</th>\n",
       "      <th>Participation in religious practices</th>\n",
       "      <th>Waiting associated w/religious &amp; spiritual activities</th>\n",
       "      <th>Security procedures rel. to religious &amp; spiritual activities</th>\n",
       "      <th>Religious education activities</th>\n",
       "      <th>Religious and spiritual activities, n.e.c.*</th>\n",
       "      <th>all_religious_activity</th>\n",
       "    </tr>\n",
       "  </thead>\n",
       "  <tbody>\n",
       "    <tr>\n",
       "      <th>0</th>\n",
       "      <td>20140101140007</td>\n",
       "      <td>39</td>\n",
       "      <td>1</td>\n",
       "      <td>1</td>\n",
       "      <td>20</td>\n",
       "      <td>2</td>\n",
       "      <td>-1</td>\n",
       "      <td>1</td>\n",
       "      <td>0</td>\n",
       "      <td>0</td>\n",
       "      <td>0</td>\n",
       "      <td>0</td>\n",
       "      <td>0</td>\n",
       "      <td>0</td>\n",
       "      <td>0</td>\n",
       "      <td>0</td>\n",
       "    </tr>\n",
       "    <tr>\n",
       "      <th>1</th>\n",
       "      <td>20140101140011</td>\n",
       "      <td>37</td>\n",
       "      <td>2</td>\n",
       "      <td>1</td>\n",
       "      <td>16</td>\n",
       "      <td>2</td>\n",
       "      <td>1</td>\n",
       "      <td>1</td>\n",
       "      <td>0</td>\n",
       "      <td>0</td>\n",
       "      <td>0</td>\n",
       "      <td>0</td>\n",
       "      <td>0</td>\n",
       "      <td>0</td>\n",
       "      <td>0</td>\n",
       "      <td>0</td>\n",
       "    </tr>\n",
       "    <tr>\n",
       "      <th>2</th>\n",
       "      <td>20140101140028</td>\n",
       "      <td>38</td>\n",
       "      <td>1</td>\n",
       "      <td>1</td>\n",
       "      <td>65</td>\n",
       "      <td>2</td>\n",
       "      <td>-1</td>\n",
       "      <td>3</td>\n",
       "      <td>0</td>\n",
       "      <td>0</td>\n",
       "      <td>0</td>\n",
       "      <td>0</td>\n",
       "      <td>0</td>\n",
       "      <td>0</td>\n",
       "      <td>0</td>\n",
       "      <td>0</td>\n",
       "    </tr>\n",
       "    <tr>\n",
       "      <th>3</th>\n",
       "      <td>20140101140063</td>\n",
       "      <td>39</td>\n",
       "      <td>2</td>\n",
       "      <td>2</td>\n",
       "      <td>50</td>\n",
       "      <td>2</td>\n",
       "      <td>-1</td>\n",
       "      <td>0</td>\n",
       "      <td>0</td>\n",
       "      <td>110</td>\n",
       "      <td>0</td>\n",
       "      <td>0</td>\n",
       "      <td>0</td>\n",
       "      <td>0</td>\n",
       "      <td>0</td>\n",
       "      <td>110</td>\n",
       "    </tr>\n",
       "    <tr>\n",
       "      <th>4</th>\n",
       "      <td>20140101140168</td>\n",
       "      <td>39</td>\n",
       "      <td>2</td>\n",
       "      <td>2</td>\n",
       "      <td>23</td>\n",
       "      <td>2</td>\n",
       "      <td>-1</td>\n",
       "      <td>1</td>\n",
       "      <td>0</td>\n",
       "      <td>0</td>\n",
       "      <td>0</td>\n",
       "      <td>0</td>\n",
       "      <td>0</td>\n",
       "      <td>0</td>\n",
       "      <td>0</td>\n",
       "      <td>0</td>\n",
       "    </tr>\n",
       "  </tbody>\n",
       "</table>\n",
       "</div>"
      ],
      "text/plain": [
       "          case_id  high_levl_edu  race  metro  age  sex  hs_or_col  \\\n",
       "0  20140101140007             39     1      1   20    2         -1   \n",
       "1  20140101140011             37     2      1   16    2          1   \n",
       "2  20140101140028             38     1      1   65    2         -1   \n",
       "3  20140101140063             39     2      2   50    2         -1   \n",
       "4  20140101140168             39     2      2   23    2         -1   \n",
       "\n",
       "   num_of_children  Tobacco and drug use  Attending religious services  \\\n",
       "0                1                     0                             0   \n",
       "1                1                     0                             0   \n",
       "2                3                     0                             0   \n",
       "3                0                     0                           110   \n",
       "4                1                     0                             0   \n",
       "\n",
       "   Participation in religious practices  \\\n",
       "0                                     0   \n",
       "1                                     0   \n",
       "2                                     0   \n",
       "3                                     0   \n",
       "4                                     0   \n",
       "\n",
       "   Waiting associated w/religious & spiritual activities  \\\n",
       "0                                                  0       \n",
       "1                                                  0       \n",
       "2                                                  0       \n",
       "3                                                  0       \n",
       "4                                                  0       \n",
       "\n",
       "   Security procedures rel. to religious & spiritual activities  \\\n",
       "0                                                  0              \n",
       "1                                                  0              \n",
       "2                                                  0              \n",
       "3                                                  0              \n",
       "4                                                  0              \n",
       "\n",
       "   Religious education activities  \\\n",
       "0                               0   \n",
       "1                               0   \n",
       "2                               0   \n",
       "3                               0   \n",
       "4                               0   \n",
       "\n",
       "   Religious and spiritual activities, n.e.c.*  all_religious_activity  \n",
       "0                                            0                       0  \n",
       "1                                            0                       0  \n",
       "2                                            0                       0  \n",
       "3                                            0                     110  \n",
       "4                                            0                       0  "
      ]
     },
     "execution_count": 37,
     "metadata": {},
     "output_type": "execute_result"
    }
   ],
   "source": [
    "total_religious_data.head()"
   ]
  },
  {
   "cell_type": "code",
   "execution_count": 38,
   "metadata": {
    "collapsed": false
   },
   "outputs": [],
   "source": [
    "total_religious_data = total_religious_data[['case_id', 'high_levl_edu', 'race', 'metro', 'age', \n",
    "                          'hs_or_col', 'num_of_children', \"Tobacco and drug use\", 'all_religious_activity']]"
   ]
  },
  {
   "cell_type": "code",
   "execution_count": 39,
   "metadata": {
    "collapsed": false
   },
   "outputs": [
    {
     "data": {
      "text/html": [
       "<div>\n",
       "<table border=\"1\" class=\"dataframe\">\n",
       "  <thead>\n",
       "    <tr style=\"text-align: right;\">\n",
       "      <th></th>\n",
       "      <th>case_id</th>\n",
       "      <th>high_levl_edu</th>\n",
       "      <th>race</th>\n",
       "      <th>metro</th>\n",
       "      <th>age</th>\n",
       "      <th>hs_or_col</th>\n",
       "      <th>num_of_children</th>\n",
       "      <th>Tobacco and drug use</th>\n",
       "      <th>all_religious_activity</th>\n",
       "    </tr>\n",
       "  </thead>\n",
       "  <tbody>\n",
       "    <tr>\n",
       "      <th>0</th>\n",
       "      <td>20140101140007</td>\n",
       "      <td>39</td>\n",
       "      <td>1</td>\n",
       "      <td>1</td>\n",
       "      <td>20</td>\n",
       "      <td>-1</td>\n",
       "      <td>1</td>\n",
       "      <td>0</td>\n",
       "      <td>0</td>\n",
       "    </tr>\n",
       "    <tr>\n",
       "      <th>1</th>\n",
       "      <td>20140101140011</td>\n",
       "      <td>37</td>\n",
       "      <td>2</td>\n",
       "      <td>1</td>\n",
       "      <td>16</td>\n",
       "      <td>1</td>\n",
       "      <td>1</td>\n",
       "      <td>0</td>\n",
       "      <td>0</td>\n",
       "    </tr>\n",
       "    <tr>\n",
       "      <th>2</th>\n",
       "      <td>20140101140028</td>\n",
       "      <td>38</td>\n",
       "      <td>1</td>\n",
       "      <td>1</td>\n",
       "      <td>65</td>\n",
       "      <td>-1</td>\n",
       "      <td>3</td>\n",
       "      <td>0</td>\n",
       "      <td>0</td>\n",
       "    </tr>\n",
       "    <tr>\n",
       "      <th>3</th>\n",
       "      <td>20140101140063</td>\n",
       "      <td>39</td>\n",
       "      <td>2</td>\n",
       "      <td>2</td>\n",
       "      <td>50</td>\n",
       "      <td>-1</td>\n",
       "      <td>0</td>\n",
       "      <td>0</td>\n",
       "      <td>110</td>\n",
       "    </tr>\n",
       "    <tr>\n",
       "      <th>4</th>\n",
       "      <td>20140101140168</td>\n",
       "      <td>39</td>\n",
       "      <td>2</td>\n",
       "      <td>2</td>\n",
       "      <td>23</td>\n",
       "      <td>-1</td>\n",
       "      <td>1</td>\n",
       "      <td>0</td>\n",
       "      <td>0</td>\n",
       "    </tr>\n",
       "  </tbody>\n",
       "</table>\n",
       "</div>"
      ],
      "text/plain": [
       "          case_id  high_levl_edu  race  metro  age  hs_or_col  \\\n",
       "0  20140101140007             39     1      1   20         -1   \n",
       "1  20140101140011             37     2      1   16          1   \n",
       "2  20140101140028             38     1      1   65         -1   \n",
       "3  20140101140063             39     2      2   50         -1   \n",
       "4  20140101140168             39     2      2   23         -1   \n",
       "\n",
       "   num_of_children  Tobacco and drug use  all_religious_activity  \n",
       "0                1                     0                       0  \n",
       "1                1                     0                       0  \n",
       "2                3                     0                       0  \n",
       "3                0                     0                     110  \n",
       "4                1                     0                       0  "
      ]
     },
     "execution_count": 39,
     "metadata": {},
     "output_type": "execute_result"
    }
   ],
   "source": [
    "total_religious_data.head()"
   ]
  },
  {
   "cell_type": "code",
   "execution_count": 40,
   "metadata": {
    "collapsed": false
   },
   "outputs": [],
   "source": [
    "any_religious_data = total_religious_data[total_religious_data.all_religious_activity > 0]"
   ]
  },
  {
   "cell_type": "code",
   "execution_count": 41,
   "metadata": {
    "collapsed": false,
    "scrolled": true
   },
   "outputs": [
    {
     "data": {
      "text/html": [
       "<div>\n",
       "<table border=\"1\" class=\"dataframe\">\n",
       "  <thead>\n",
       "    <tr style=\"text-align: right;\">\n",
       "      <th></th>\n",
       "      <th>case_id</th>\n",
       "      <th>high_levl_edu</th>\n",
       "      <th>race</th>\n",
       "      <th>metro</th>\n",
       "      <th>age</th>\n",
       "      <th>hs_or_col</th>\n",
       "      <th>num_of_children</th>\n",
       "      <th>Tobacco and drug use</th>\n",
       "      <th>all_religious_activity</th>\n",
       "    </tr>\n",
       "  </thead>\n",
       "  <tbody>\n",
       "    <tr>\n",
       "      <th>3</th>\n",
       "      <td>20140101140063</td>\n",
       "      <td>39</td>\n",
       "      <td>2</td>\n",
       "      <td>2</td>\n",
       "      <td>50</td>\n",
       "      <td>-1</td>\n",
       "      <td>0</td>\n",
       "      <td>0</td>\n",
       "      <td>110</td>\n",
       "    </tr>\n",
       "    <tr>\n",
       "      <th>22</th>\n",
       "      <td>20140101140876</td>\n",
       "      <td>39</td>\n",
       "      <td>1</td>\n",
       "      <td>1</td>\n",
       "      <td>67</td>\n",
       "      <td>-1</td>\n",
       "      <td>0</td>\n",
       "      <td>0</td>\n",
       "      <td>130</td>\n",
       "    </tr>\n",
       "    <tr>\n",
       "      <th>28</th>\n",
       "      <td>20140101140973</td>\n",
       "      <td>40</td>\n",
       "      <td>5</td>\n",
       "      <td>1</td>\n",
       "      <td>62</td>\n",
       "      <td>-1</td>\n",
       "      <td>0</td>\n",
       "      <td>0</td>\n",
       "      <td>120</td>\n",
       "    </tr>\n",
       "    <tr>\n",
       "      <th>42</th>\n",
       "      <td>20140101141321</td>\n",
       "      <td>39</td>\n",
       "      <td>1</td>\n",
       "      <td>2</td>\n",
       "      <td>66</td>\n",
       "      <td>-1</td>\n",
       "      <td>0</td>\n",
       "      <td>0</td>\n",
       "      <td>195</td>\n",
       "    </tr>\n",
       "    <tr>\n",
       "      <th>45</th>\n",
       "      <td>20140101141379</td>\n",
       "      <td>40</td>\n",
       "      <td>1</td>\n",
       "      <td>1</td>\n",
       "      <td>36</td>\n",
       "      <td>2</td>\n",
       "      <td>3</td>\n",
       "      <td>0</td>\n",
       "      <td>135</td>\n",
       "    </tr>\n",
       "  </tbody>\n",
       "</table>\n",
       "</div>"
      ],
      "text/plain": [
       "           case_id  high_levl_edu  race  metro  age  hs_or_col  \\\n",
       "3   20140101140063             39     2      2   50         -1   \n",
       "22  20140101140876             39     1      1   67         -1   \n",
       "28  20140101140973             40     5      1   62         -1   \n",
       "42  20140101141321             39     1      2   66         -1   \n",
       "45  20140101141379             40     1      1   36          2   \n",
       "\n",
       "    num_of_children  Tobacco and drug use  all_religious_activity  \n",
       "3                 0                     0                     110  \n",
       "22                0                     0                     130  \n",
       "28                0                     0                     120  \n",
       "42                0                     0                     195  \n",
       "45                3                     0                     135  "
      ]
     },
     "execution_count": 41,
     "metadata": {},
     "output_type": "execute_result"
    }
   ],
   "source": [
    "any_religious_data.head()"
   ]
  },
  {
   "cell_type": "code",
   "execution_count": 42,
   "metadata": {
    "collapsed": false
   },
   "outputs": [
    {
     "name": "stdout",
     "output_type": "stream",
     "text": [
      "104.454609929\n"
     ]
    }
   ],
   "source": [
    "print(any_religious_data['all_religious_activity'].mean())"
   ]
  },
  {
   "cell_type": "code",
   "execution_count": 43,
   "metadata": {
    "collapsed": false
   },
   "outputs": [],
   "source": [
    "no__religious_data = total_religious_data[total_religious_data.all_religious_activity == 0]"
   ]
  },
  {
   "cell_type": "code",
   "execution_count": 44,
   "metadata": {
    "collapsed": false
   },
   "outputs": [
    {
     "data": {
      "text/html": [
       "<div>\n",
       "<table border=\"1\" class=\"dataframe\">\n",
       "  <thead>\n",
       "    <tr style=\"text-align: right;\">\n",
       "      <th></th>\n",
       "      <th>case_id</th>\n",
       "      <th>high_levl_edu</th>\n",
       "      <th>race</th>\n",
       "      <th>metro</th>\n",
       "      <th>age</th>\n",
       "      <th>hs_or_col</th>\n",
       "      <th>num_of_children</th>\n",
       "      <th>Tobacco and drug use</th>\n",
       "      <th>all_religious_activity</th>\n",
       "    </tr>\n",
       "  </thead>\n",
       "  <tbody>\n",
       "    <tr>\n",
       "      <th>0</th>\n",
       "      <td>20140101140007</td>\n",
       "      <td>39</td>\n",
       "      <td>1</td>\n",
       "      <td>1</td>\n",
       "      <td>20</td>\n",
       "      <td>-1</td>\n",
       "      <td>1</td>\n",
       "      <td>0</td>\n",
       "      <td>0</td>\n",
       "    </tr>\n",
       "    <tr>\n",
       "      <th>1</th>\n",
       "      <td>20140101140011</td>\n",
       "      <td>37</td>\n",
       "      <td>2</td>\n",
       "      <td>1</td>\n",
       "      <td>16</td>\n",
       "      <td>1</td>\n",
       "      <td>1</td>\n",
       "      <td>0</td>\n",
       "      <td>0</td>\n",
       "    </tr>\n",
       "    <tr>\n",
       "      <th>2</th>\n",
       "      <td>20140101140028</td>\n",
       "      <td>38</td>\n",
       "      <td>1</td>\n",
       "      <td>1</td>\n",
       "      <td>65</td>\n",
       "      <td>-1</td>\n",
       "      <td>3</td>\n",
       "      <td>0</td>\n",
       "      <td>0</td>\n",
       "    </tr>\n",
       "    <tr>\n",
       "      <th>4</th>\n",
       "      <td>20140101140168</td>\n",
       "      <td>39</td>\n",
       "      <td>2</td>\n",
       "      <td>2</td>\n",
       "      <td>23</td>\n",
       "      <td>-1</td>\n",
       "      <td>1</td>\n",
       "      <td>0</td>\n",
       "      <td>0</td>\n",
       "    </tr>\n",
       "    <tr>\n",
       "      <th>5</th>\n",
       "      <td>20140101140537</td>\n",
       "      <td>36</td>\n",
       "      <td>2</td>\n",
       "      <td>1</td>\n",
       "      <td>85</td>\n",
       "      <td>-1</td>\n",
       "      <td>0</td>\n",
       "      <td>0</td>\n",
       "      <td>0</td>\n",
       "    </tr>\n",
       "  </tbody>\n",
       "</table>\n",
       "</div>"
      ],
      "text/plain": [
       "          case_id  high_levl_edu  race  metro  age  hs_or_col  \\\n",
       "0  20140101140007             39     1      1   20         -1   \n",
       "1  20140101140011             37     2      1   16          1   \n",
       "2  20140101140028             38     1      1   65         -1   \n",
       "4  20140101140168             39     2      2   23         -1   \n",
       "5  20140101140537             36     2      1   85         -1   \n",
       "\n",
       "   num_of_children  Tobacco and drug use  all_religious_activity  \n",
       "0                1                     0                       0  \n",
       "1                1                     0                       0  \n",
       "2                3                     0                       0  \n",
       "4                1                     0                       0  \n",
       "5                0                     0                       0  "
      ]
     },
     "execution_count": 44,
     "metadata": {},
     "output_type": "execute_result"
    }
   ],
   "source": [
    "no__religious_data.head()"
   ]
  },
  {
   "cell_type": "code",
   "execution_count": 45,
   "metadata": {
    "collapsed": false,
    "scrolled": true
   },
   "outputs": [
    {
     "data": {
      "image/png": "[encoded data removed]",
      "text/plain": [
       "<matplotlib.figure.Figure at 0x11902fa20>"
      ]
     },
     "metadata": {},
     "output_type": "display_data"
    },
    {
     "name": "stdout",
     "output_type": "stream",
     "text": [
      "People surveyed who spent any time participating in religious activities had a mean age of 54.67659574468085.\n"
     ]
    },
    {
     "data": {
      "image/png": "[encoded data removed]",
      "text/plain": [
       "<matplotlib.figure.Figure at 0x118f84400>"
      ]
     },
     "metadata": {},
     "output_type": "display_data"
    },
    {
     "name": "stdout",
     "output_type": "stream",
     "text": [
      "People surveyed who spent no time religious activities had a mean age of 47.983009231978.\n"
     ]
    }
   ],
   "source": [
    "any_religious_data['age'].plot(kind='hist', bins=10, title='Age of Those Who Participated In Any Religious Activities')\n",
    "plt.xlabel('Age')\n",
    "plt.ylabel('Number of Respondents')\n",
    "plt.show()\n",
    "\n",
    "print('People surveyed who spent any time participating in religious activities had a mean age of {}.'.format(any_religious_data['age'].mean()))\n",
    "\n",
    "no__religious_data['age'].plot(kind='hist', bins=10,title='Age of Those Who Participated In No Religious Activities')\n",
    "plt.xlabel('Age')\n",
    "plt.ylabel('Number of Respondents')\n",
    "plt.show()\n",
    "\n",
    "print('People surveyed who spent no time religious activities had a mean age of {}.'.format(no__religious_data['age'].mean()))"
   ]
  },
  {
   "cell_type": "code",
   "execution_count": 46,
   "metadata": {
    "collapsed": false,
    "scrolled": true
   },
   "outputs": [
    {
     "name": "stdout",
     "output_type": "stream",
     "text": [
      "There was a correlation of 0.09777791170321802 between age and the amount of time spent participating in religious activities.\n"
     ]
    }
   ],
   "source": [
    "print('There was a correlation of {} between age and the amount of time spent participating in religious activities.'.format( total_religious_data['age'].corr(total_religious_data['all_religious_activity'])))"
   ]
  },
  {
   "cell_type": "code",
   "execution_count": 47,
   "metadata": {
    "collapsed": false
   },
   "outputs": [
    {
     "data": {
      "image/png": "[encoded data removed]",
      "text/plain": [
       "<matplotlib.figure.Figure at 0x10ff75470>"
      ]
     },
     "metadata": {},
     "output_type": "display_data"
    }
   ],
   "source": [
    "total_religious_data.plot(kind='scatter', y='all_religious_activity', x='age')\n",
    "plt.ylabel('Time Participated In Any Religious Activity')\n",
    "plt.xlabel('Age')\n",
    "plt.show()"
   ]
  },
  {
   "cell_type": "code",
   "execution_count": 48,
   "metadata": {
    "collapsed": false,
    "scrolled": true
   },
   "outputs": [
    {
     "name": "stdout",
     "output_type": "stream",
     "text": [
      "0.797878609311\n",
      "0.730496453901\n"
     ]
    }
   ],
   "source": [
    "print(no__religious_data['num_of_children'].mean())\n",
    "print(any_religious_data['num_of_children'].mean())"
   ]
  },
  {
   "cell_type": "code",
   "execution_count": 49,
   "metadata": {
    "collapsed": false
   },
   "outputs": [
    {
     "data": {
      "image/png": "[encoded data removed]",
      "text/plain": [
       "<matplotlib.figure.Figure at 0x10f9fd358>"
      ]
     },
     "metadata": {},
     "output_type": "display_data"
    },
    {
     "name": "stdout",
     "output_type": "stream",
     "text": [
      "People surveyed who spent any time participating in religious activities had a mean of 0.7304964539007093 children.\n"
     ]
    },
    {
     "data": {
      "image/png": "[encoded data removed]",
      "text/plain": [
       "<matplotlib.figure.Figure at 0x118f842e8>"
      ]
     },
     "metadata": {},
     "output_type": "display_data"
    },
    {
     "name": "stdout",
     "output_type": "stream",
     "text": [
      "People surveyed who spent no time participating in religious activities had a mean of 0.797878609310548 children.\n"
     ]
    }
   ],
   "source": [
    "any_religious_data['num_of_children'].plot(kind='hist', title='Number of Children of Those Who Participated In Any Religious Activities')\n",
    "plt.xlabel('Number of Children')\n",
    "plt.ylabel('Number of Respondents')\n",
    "plt.show()\n",
    "\n",
    "print('People surveyed who spent any time participating in religious activities had a mean of {} children.'.format(any_religious_data['num_of_children'].mean()))\n",
    "\n",
    "no__religious_data['num_of_children'].plot(kind='hist', title='Number of Children of Those Who Participated In No Religious Activities')\n",
    "plt.xlabel('Number of Children')\n",
    "plt.ylabel('Number of Respondents')\n",
    "plt.show()\n",
    "\n",
    "print('People surveyed who spent no time participating in religious activities had a mean of {} children.'.format(no__religious_data['num_of_children'].mean()))"
   ]
  },
  {
   "cell_type": "code",
   "execution_count": 50,
   "metadata": {
    "collapsed": false
   },
   "outputs": [
    {
     "data": {
      "image/png": "[encoded data removed]",
      "text/plain": [
       "<matplotlib.figure.Figure at 0x118f5d550>"
      ]
     },
     "metadata": {},
     "output_type": "display_data"
    }
   ],
   "source": [
    "total_religious_data.plot(kind='scatter', y='all_religious_activity', x='num_of_children')\n",
    "plt.ylabel('Time Participated In Any Religious Activity')\n",
    "plt.xlabel('Number of Children')\n",
    "plt.show()"
   ]
  },
  {
   "cell_type": "code",
   "execution_count": 51,
   "metadata": {
    "collapsed": false
   },
   "outputs": [
    {
     "name": "stdout",
     "output_type": "stream",
     "text": [
      "There was a correlation of -0.02730360475707316 between the number of children and the amount of time spent participating in religious activities.\n"
     ]
    }
   ],
   "source": [
    "print('There was a correlation of {} between the number of children and the amount of time spent participating in religious activities.'.format( total_religious_data['num_of_children'].corr(total_religious_data['all_religious_activity'])))"
   ]
  },
  {
   "cell_type": "code",
   "execution_count": 52,
   "metadata": {
    "collapsed": false,
    "scrolled": true
   },
   "outputs": [
    {
     "data": {
      "image/png": "[encoded data removed]",
      "text/plain": [
       "<matplotlib.figure.Figure at 0x119039a20>"
      ]
     },
     "metadata": {},
     "output_type": "display_data"
    },
    {
     "name": "stdout",
     "output_type": "stream",
     "text": [
      "People surveyed who spent any time participating in religious activities spent a mean of 0.03333333333333333 minutes using tobacco and drugs.\n"
     ]
    },
    {
     "data": {
      "image/png": "[encoded data removed]",
      "text/plain": [
       "<matplotlib.figure.Figure at 0x118f37208>"
      ]
     },
     "metadata": {},
     "output_type": "display_data"
    },
    {
     "name": "stdout",
     "output_type": "stream",
     "text": [
      "People surveyed who spent no time participating in religious activities spent a mean of 0.4590453741897466 minutes using tobacco and drugs.\n"
     ]
    }
   ],
   "source": [
    "any_religious_data['Tobacco and drug use'].plot(kind='hist', title='Tobacco and Drug Use of Those Who Participated In Any Religious Activities')\n",
    "plt.xlabel('Time')\n",
    "plt.ylabel('Tobacco and drug use')\n",
    "plt.show()\n",
    "\n",
    "print('People surveyed who spent any time participating in religious activities spent a mean of {} minutes using tobacco and drugs.'.format(any_religious_data['Tobacco and drug use'].mean()))\n",
    "\n",
    "no__religious_data['Tobacco and drug use'].plot(kind='hist', title='Tobacco and Drug Use of Those Who Participated In No Religious Activities')\n",
    "plt.xlabel('Time')\n",
    "plt.ylabel('Tobacco and drug use')\n",
    "plt.show()\n",
    "\n",
    "print('People surveyed who spent no time participating in religious activities spent a mean of {} minutes using tobacco and drugs.'.format(no__religious_data['Tobacco and drug use'].mean()))"
   ]
  },
  {
   "cell_type": "code",
   "execution_count": 53,
   "metadata": {
    "collapsed": false
   },
   "outputs": [
    {
     "name": "stdout",
     "output_type": "stream",
     "text": [
      "There was a correlation of -0.01709629129662278 between the amount of time using tobacco and drugs and the amount of time spent participating in religious activities.\n"
     ]
    }
   ],
   "source": [
    "print('There was a correlation of {} between the amount of time using tobacco and drugs and the amount of time spent participating in religious activities.'.format( total_religious_data['Tobacco and drug use'].corr(total_religious_data['all_religious_activity'])))"
   ]
  },
  {
   "cell_type": "code",
   "execution_count": 54,
   "metadata": {
    "collapsed": false,
    "scrolled": true
   },
   "outputs": [
    {
     "data": {
      "image/png": "[encoded data removed]",
      "text/plain": [
       "<matplotlib.figure.Figure at 0x11001a5c0>"
      ]
     },
     "metadata": {},
     "output_type": "display_data"
    }
   ],
   "source": [
    "total_religious_data.plot(kind='scatter', y='all_religious_activity', x='Tobacco and drug use')\n",
    "plt.ylabel('Time Participated In Any Religious Activity')\n",
    "plt.xlabel('Time Participated In Tobacco and Drug Use')\n",
    "plt.show()"
   ]
  },
  {
   "cell_type": "code",
   "execution_count": 55,
   "metadata": {
    "collapsed": false
   },
   "outputs": [
    {
     "data": {
      "image/png": "[encoded data removed]",
      "text/plain": [
       "<matplotlib.figure.Figure at 0x119046320>"
      ]
     },
     "metadata": {},
     "output_type": "display_data"
    }
   ],
   "source": [
    "total_religious_data.plot(kind='scatter', y='all_religious_activity', x='Tobacco and drug use')\n",
    "plt.ylabel('Time Participated In Any Religious Activity')\n",
    "plt.xlabel('Time Participated In Tobacco and Drug Use')\n",
    "plt.show()"
   ]
  },
  {
   "cell_type": "markdown",
   "metadata": {},
   "source": [
    "The above data shows that the mean age of those who participated in religouse activities was higher than respondents who participated in no religious activities. The data points towards a small negative correlation between increased age and increased time spent participating in religious activities. The data also points towards a small negative correlation between an increase in the number of children a respondent has and the amount of time spent participating in religious activities. Lastly those who spant anytime participating in religious activities had a much lower mean amount of time spent using tobacco and drugs than those who spent no time on religious activities."
   ]
  },
  {
   "cell_type": "code",
   "execution_count": null,
   "metadata": {
    "collapsed": true
   },
   "outputs": [],
   "source": []
  }
 ],
 "metadata": {
  "kernelspec": {
   "display_name": "Python 3",
   "language": "python",
   "name": "python3"
  },
  "language_info": {
   "codemirror_mode": {
    "name": "ipython",
    "version": 3
   },
   "file_extension": ".py",
   "mimetype": "text/x-python",
   "name": "python",
   "nbconvert_exporter": "python",
   "pygments_lexer": "ipython3",
   "version": "3.4.3"
  }
 },
 "nbformat": 4,
 "nbformat_minor": 0
}
